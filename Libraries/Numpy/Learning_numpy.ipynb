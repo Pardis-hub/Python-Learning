{
 "cells": [
  {
   "cell_type": "markdown",
   "id": "75764bf9-2161-43a5-9c96-7c97ba65fbc3",
   "metadata": {},
   "source": [
    "# 1. Basics of NumPy"
   ]
  },
  {
   "cell_type": "markdown",
   "id": "ec972142-4121-471a-bb5d-679e07358218",
   "metadata": {},
   "source": [
    "## 1.1 Array Creation\n",
    "Arrays are the core data structure in NumPy. Here's how to create them:"
   ]
  },
  {
   "cell_type": "markdown",
   "id": "b44ef8c4-db19-4d5d-bb36-6338e3d9ee09",
   "metadata": {},
   "source": [
    "### 1D Array"
   ]
  },
  {
   "cell_type": "code",
   "execution_count": 1,
   "id": "9394893c-c374-4b81-a106-40e2f89857b2",
   "metadata": {},
   "outputs": [],
   "source": [
    "import numpy as np"
   ]
  },
  {
   "cell_type": "code",
   "execution_count": 2,
   "id": "f6535c08-36f1-4bd8-a350-71bdaae6ce03",
   "metadata": {},
   "outputs": [
    {
     "name": "stdout",
     "output_type": "stream",
     "text": [
      "1D Array: [10 20 30 40 50]\n"
     ]
    }
   ],
   "source": [
    "# Create a 1D array\n",
    "arr_1d = np.array([10, 20, 30, 40, 50])\n",
    "print(\"1D Array:\", arr_1d)"
   ]
  },
  {
   "cell_type": "markdown",
   "id": "edfc1d16-0f7e-4560-afb1-dbbbf9457a10",
   "metadata": {},
   "source": [
    "### 2D Array"
   ]
  },
  {
   "cell_type": "code",
   "execution_count": 2,
   "id": "c04d9846-7864-44eb-b70f-517f1f08ed2f",
   "metadata": {},
   "outputs": [
    {
     "name": "stdout",
     "output_type": "stream",
     "text": [
      "2D Array:\n",
      " [[1 2 3]\n",
      " [4 5 6]\n",
      " [7 8 9]]\n"
     ]
    }
   ],
   "source": [
    "# Create a 2D array\n",
    "arr_2d = np.array([[1, 2, 3], [4, 5, 6], [7, 8, 9]])\n",
    "print(\"2D Array:\\n\", arr_2d)"
   ]
  },
  {
   "cell_type": "markdown",
   "id": "e02532ba-4e4b-4aa5-8de8-817e49bad329",
   "metadata": {},
   "source": [
    "### Random Array"
   ]
  },
  {
   "cell_type": "markdown",
   "id": "21cd612b-fdfd-4007-9a72-3efddaa49823",
   "metadata": {},
   "source": [
    "#### Using np.random.rand"
   ]
  },
  {
   "cell_type": "code",
   "execution_count": 3,
   "id": "7881c8ab-fde0-4fbd-b070-f70da49ab43a",
   "metadata": {},
   "outputs": [
    {
     "name": "stdout",
     "output_type": "stream",
     "text": [
      "Random Array:\n",
      " [[0.9561348  0.58029185 0.16212645 0.90548432]\n",
      " [0.04658358 0.58581525 0.13146473 0.13634287]\n",
      " [0.70611841 0.32623411 0.14553346 0.20520976]]\n"
     ]
    }
   ],
   "source": [
    "# Random array of shape (3, 4)\n",
    "random_arr = np.random.rand(3, 4)\n",
    "print(\"Random Array:\\n\", random_arr)"
   ]
  },
  {
   "cell_type": "markdown",
   "id": "4528b13d-ebda-485f-b3be-abfcfe888902",
   "metadata": {},
   "source": [
    "#### Using np.random.randint\n",
    "This generates random integers within a specific range."
   ]
  },
  {
   "cell_type": "code",
   "execution_count": 3,
   "id": "2b63a081-1620-4ce3-b773-e6dd601957c3",
   "metadata": {},
   "outputs": [
    {
     "name": "stdout",
     "output_type": "stream",
     "text": [
      "[[38 19 47]\n",
      " [43 37 19]]\n"
     ]
    }
   ],
   "source": [
    "import numpy as np\n",
    "\n",
    "# Generate a 2x3 array of random integers between 10 and 50\n",
    "random_array = np.random.randint(10, 50, size=(2, 3))\n",
    "print(random_array)"
   ]
  },
  {
   "cell_type": "markdown",
   "id": "669605ad-c329-41b9-8524-0fdb22c5368e",
   "metadata": {},
   "source": [
    "#### Using np.random.uniform\n",
    "This generates random floating-point numbers within a range."
   ]
  },
  {
   "cell_type": "code",
   "execution_count": 4,
   "id": "9cb206d3-69dd-4379-93f5-38d65c00faea",
   "metadata": {},
   "outputs": [
    {
     "name": "stdout",
     "output_type": "stream",
     "text": [
      "[[0.41055181 0.36547974 0.28578041 0.8164885 ]\n",
      " [0.69260325 0.82813152 0.64203351 0.00328509]\n",
      " [0.39079287 0.93568314 0.90684505 0.68974459]]\n"
     ]
    }
   ],
   "source": [
    "# Generate a 3x4 array of random floats between 0 and 1\n",
    "random_array = np.random.uniform(0, 1, size=(3, 4))\n",
    "print(random_array)"
   ]
  },
  {
   "cell_type": "markdown",
   "id": "98477071-305b-4255-98f2-f6faf9f8c6fd",
   "metadata": {},
   "source": [
    "#### Using np.random.rand and Scaling\n",
    "This generates random floats in the range [0, 1) and can be scaled to any desired range."
   ]
  },
  {
   "cell_type": "code",
   "execution_count": 3,
   "id": "5ff97a2f-7ff0-4b33-9310-299af4fe0d8d",
   "metadata": {},
   "outputs": [
    {
     "name": "stdout",
     "output_type": "stream",
     "text": [
      "[[14.94745867  6.3404659   9.43984772]\n",
      " [12.17959652  7.04621948  5.85259094]\n",
      " [11.1312056   6.84526534  5.45884908]]\n"
     ]
    }
   ],
   "source": [
    "# Generate a 3x3 array of random floats between 5 and 15\n",
    "random_array = np.random.rand(3, 3) * (15 - 5) + 5\n",
    "print(random_array)"
   ]
  },
  {
   "cell_type": "markdown",
   "id": "378fc5d8-4675-4bf5-8cd0-a1231d16d850",
   "metadata": {},
   "source": [
    "#### Using np.random.normal\n",
    "This generate random samples from a normal (Gaussian) distribution. The normal distribution is symmetric and characterized by three parameters:\n",
    "\n",
    "**1. Mean** (loc): The center of the distribution. Default is 0.0.\n",
    "\n",
    "**2. Standard deviation** (scale): Measures the spread of the distribution. Default is 1.0. Must be positive.\n",
    "\n",
    "**3. size**: The shape of the output array (number of samples). Default is None, which returns a single value."
   ]
  },
  {
   "cell_type": "code",
   "execution_count": 4,
   "id": "47791025-4112-4ad3-8060-7acc6d887fa6",
   "metadata": {},
   "outputs": [
    {
     "name": "stdout",
     "output_type": "stream",
     "text": [
      "[ 9.42128778 11.01179114 11.0164761   7.17668957 10.03130611]\n",
      "\n",
      " [[5.79679858 3.98724377 6.24093208]\n",
      " [6.05607009 6.33944233 8.44165346]\n",
      " [5.50291882 3.42206492 4.90425184]]\n"
     ]
    }
   ],
   "source": [
    "# Random numbers with mean=10, std=2\n",
    "samples = np.random.normal(loc=10, scale=2, size=5)\n",
    "print(samples)\n",
    "\n",
    "# Generate a 3x3 array of random numbers\n",
    "array = np.random.normal(loc=5, scale=1.5, size=(3, 3))\n",
    "print('\\n',array)"
   ]
  },
  {
   "cell_type": "code",
   "execution_count": 5,
   "id": "0a852fc1-d579-4589-9670-7ac5109b1771",
   "metadata": {},
   "outputs": [
    {
     "data": {
      "image/png": "[encoded data removed]",
      "text/plain": [
       "<Figure size 640x480 with 1 Axes>"
      ]
     },
     "metadata": {},
     "output_type": "display_data"
    }
   ],
   "source": [
    "import matplotlib.pyplot as plt\n",
    "\n",
    "# Generate 10000 random numbers with mean=0, std=1\n",
    "data = np.random.normal(loc=0, scale=1, size=10000)\n",
    "\n",
    "# Plot the histogram\n",
    "plt.hist(data, bins=50, density=True, alpha=0.6, color='g')\n",
    "plt.title('Histogram of Normal Distribution')\n",
    "plt.xlabel('Value')\n",
    "plt.ylabel('Frequency')\n",
    "plt.show()"
   ]
  },
  {
   "cell_type": "markdown",
   "id": "72cb9ad7-b7c2-488a-a909-3621000e9889",
   "metadata": {},
   "source": [
    "#### np.random.seed\n",
    "This function in NumPy is used to set the seed for the random number generator, ensuring that your random operations produce repeatable results. This is especially useful when debugging code or sharing experiments where consistent results are important.\n",
    "\n",
    "The random number generator in NumPy uses an algorithm to generate random numbers, starting with an initial value called the seed. By setting the seed to a specific value, you can make the sequence of \"random\" numbers predictable."
   ]
  },
  {
   "cell_type": "code",
   "execution_count": null,
   "id": "3a413504-24c1-4596-a9b2-f282d4afc6a4",
   "metadata": {},
   "outputs": [],
   "source": [
    "np.random.seed(seed=None)"
   ]
  },
  {
   "cell_type": "markdown",
   "id": "375395db-2c7e-4870-baa0-17bd0818a0bd",
   "metadata": {},
   "source": [
    "- **seed**: An integer value (e.g., 42). If None, the generator is initialized with a random seed."
   ]
  },
  {
   "cell_type": "code",
   "execution_count": 7,
   "id": "d4c2138a-f26a-4c70-a094-6aadd5d87b24",
   "metadata": {},
   "outputs": [
    {
     "name": "stdout",
     "output_type": "stream",
     "text": [
      "[0.37454012 0.95071431 0.73199394 0.59865848 0.15601864]\n"
     ]
    }
   ],
   "source": [
    "import numpy as np\n",
    "\n",
    "# Set seed\n",
    "np.random.seed(42) #Output (always the same when using seed 42)\n",
    "\n",
    "# Generate random numbers\n",
    "numbers = np.random.rand(5)\n",
    "print(numbers)"
   ]
  },
  {
   "cell_type": "markdown",
   "id": "b5113308-4a8f-4f27-ae1e-814c82118a1d",
   "metadata": {},
   "source": [
    "#### np.random.permutation(n)\n",
    "Generates a random permutation of indices from 0 to n-1."
   ]
  },
  {
   "cell_type": "code",
   "execution_count": null,
   "id": "ad686cd7-3d93-486b-b837-a387c3ec864b",
   "metadata": {},
   "outputs": [],
   "source": [
    "shuffle_idx = np.random.permutation(len(X_ab))\n",
    "X_ab, y_ab = X_ab[shuffle_idx], y_ab[shuffle_idx]"
   ]
  },
  {
   "cell_type": "markdown",
   "id": "1b7b888a-4954-496c-be44-b46498a2439d",
   "metadata": {},
   "source": [
    "- Generates a random permutation of indices from 0 to len(X_ab) - 1.\n",
    "- This creates an array shuffle_idx to shuffle the samples and their labels.\n",
    "\n",
    "##### Shuffling:\n",
    "- X_ab[shuffle_idx]: Rearranges the rows of X_ab according to shuffle_idx.\n",
    "- y_ab[shuffle_idx]: Rearranges the labels y_ab to match the new order of the samples."
   ]
  },
  {
   "cell_type": "markdown",
   "id": "50b67c88-e4df-471b-8605-889463e3c05b",
   "metadata": {},
   "source": [
    "## 1.2 Special Arrays\n",
    "These are useful for initializing data."
   ]
  },
  {
   "cell_type": "markdown",
   "id": "881bfd56-1fc1-425d-9008-fb39c3e311ec",
   "metadata": {},
   "source": [
    "### Array of Zeros"
   ]
  },
  {
   "cell_type": "code",
   "execution_count": 4,
   "id": "835cd163-9461-41d5-87e8-dcb896d64c83",
   "metadata": {},
   "outputs": [
    {
     "name": "stdout",
     "output_type": "stream",
     "text": [
      "Zeros Array:\n",
      " [[0. 0. 0.]\n",
      " [0. 0. 0.]]\n"
     ]
    }
   ],
   "source": [
    "zeros = np.zeros((2, 3))  # 2x3 array of zeros\n",
    "print(\"Zeros Array:\\n\", zeros)"
   ]
  },
  {
   "cell_type": "markdown",
   "id": "fefbb81a-7134-4f85-bdc6-51a9d711eb05",
   "metadata": {},
   "source": [
    "### Array of Ones"
   ]
  },
  {
   "cell_type": "code",
   "execution_count": 5,
   "id": "e6dcb99a-4b10-4591-a6dd-ef768e867163",
   "metadata": {},
   "outputs": [
    {
     "name": "stdout",
     "output_type": "stream",
     "text": [
      "Ones Array:\n",
      " [[1. 1.]\n",
      " [1. 1.]\n",
      " [1. 1.]]\n"
     ]
    }
   ],
   "source": [
    "ones = np.ones((3, 2))  # 3x2 array of ones\n",
    "print(\"Ones Array:\\n\", ones)"
   ]
  },
  {
   "cell_type": "markdown",
   "id": "30f0f06a-3e80-4299-ba64-937be534833e",
   "metadata": {},
   "source": [
    "### Identity Matrix\n",
    "You can easily create an identity matrix using np.eye or np.identity in NumPy."
   ]
  },
  {
   "cell_type": "code",
   "execution_count": 7,
   "id": "b133f478-c115-4b50-b213-6a8f0cadca3b",
   "metadata": {},
   "outputs": [
    {
     "name": "stdout",
     "output_type": "stream",
     "text": [
      "[[1. 0. 0. 0.]\n",
      " [0. 1. 0. 0.]\n",
      " [0. 0. 1. 0.]\n",
      " [0. 0. 0. 1.]]\n"
     ]
    }
   ],
   "source": [
    "import numpy as np\n",
    "\n",
    "# Create a 4x4 identity matrix\n",
    "identity_matrix = np.eye(4)\n",
    "print(identity_matrix)"
   ]
  },
  {
   "cell_type": "code",
   "execution_count": 8,
   "id": "0974d85a-fb00-4d3b-b114-8fb86fdbebfb",
   "metadata": {},
   "outputs": [
    {
     "name": "stdout",
     "output_type": "stream",
     "text": [
      "[[1. 0. 0.]\n",
      " [0. 1. 0.]\n",
      " [0. 0. 1.]]\n"
     ]
    }
   ],
   "source": [
    "identity_matrix = np.identity(3)  # Create a 3x3 identity matrix\n",
    "print(identity_matrix)"
   ]
  },
  {
   "cell_type": "markdown",
   "id": "9223e2a7-9db3-4aa7-b174-af3106a91d8b",
   "metadata": {},
   "source": [
    "### Range of Numbers"
   ]
  },
  {
   "cell_type": "code",
   "execution_count": 6,
   "id": "dd54f76f-a7c0-4310-bdc4-c02b9853cd3a",
   "metadata": {},
   "outputs": [
    {
     "name": "stdout",
     "output_type": "stream",
     "text": [
      "Range Array: [ 0  5 10 15]\n"
     ]
    }
   ],
   "source": [
    "range1_arr = np.arange(0, 20, 5)  # Start at 0, go up to 20, step by 5\n",
    "print(\"Range Array:\", range1_arr)"
   ]
  },
  {
   "cell_type": "code",
   "execution_count": 2,
   "id": "8076fcf6-bca1-4967-82d9-72866e971dfc",
   "metadata": {},
   "outputs": [
    {
     "name": "stdout",
     "output_type": "stream",
     "text": [
      "[ 0.   2.5  5.   7.5 10. ]\n"
     ]
    }
   ],
   "source": [
    "import numpy as np\n",
    "\n",
    "# Generate 5 evenly spaced numbers between 0 and 10\n",
    "arr = np.linspace(0, 10, 5)\n",
    "print(arr)"
   ]
  },
  {
   "cell_type": "markdown",
   "id": "03baf09e-7a8a-4723-a097-f7d10a61cd5e",
   "metadata": {},
   "source": [
    "#### Syntax:"
   ]
  },
  {
   "cell_type": "code",
   "execution_count": null,
   "id": "a8a3d65e-f362-4d49-b43d-2ac5990950f8",
   "metadata": {},
   "outputs": [],
   "source": [
    "np.linspace(start, stop, num=50, endpoint=True, retstep=False, dtype=None)"
   ]
  },
  {
   "cell_type": "markdown",
   "id": "2a3d03d8-28a0-45f2-995e-42571ddea2ca",
   "metadata": {},
   "source": [
    "#### Parameters:\n",
    "1. *start*: The starting value of the sequence.\n",
    "2. *stop*: The ending value of the sequence.\n",
    "3. *num* (optional): The number of evenly spaced samples to generate. Default is 50.\n",
    "4. *endpoint* (optional): If True (default), includes the stop value. If False, excludes it.\n",
    "5. *retstep* (optional): If True, also returns the spacing between samples.\n",
    "6. *dtype* (optional): The data type of the output array."
   ]
  },
  {
   "cell_type": "code",
   "execution_count": 5,
   "id": "9e8932cd-aad4-4a91-acbb-6c7d569b4eeb",
   "metadata": {},
   "outputs": [
    {
     "name": "stdout",
     "output_type": "stream",
     "text": [
      "[[ 5.98226788 14.82440554 14.30152206]\n",
      " [ 6.9995419  12.05822454  8.53453714]\n",
      " [ 7.80450942 10.8179091  12.26929563]]\n"
     ]
    }
   ],
   "source": [
    "# Generate a 3x3 array of random floats between 5 and 15\n",
    "random_array = np.random.rand(3, 3) * (15 - 5) + 5\n",
    "print(random_array)"
   ]
  },
  {
   "cell_type": "markdown",
   "id": "5d388649-1d4a-4aba-a368-5c763ad1cf94",
   "metadata": {},
   "source": [
    "## 1.3 Array Properties\n",
    "Learn to inspect arrays:"
   ]
  },
  {
   "cell_type": "code",
   "execution_count": 11,
   "id": "3ed68749-ee83-4e8c-84d6-d3b7b8520c3b",
   "metadata": {},
   "outputs": [
    {
     "name": "stdout",
     "output_type": "stream",
     "text": [
      "Array:\n",
      " [[1 2 3]\n",
      " [4 5 6]]\n",
      "Shape: (2, 3)\n",
      "Dimensions: 2\n",
      "Size: 6\n",
      "Data Type: int64\n"
     ]
    }
   ],
   "source": [
    "# Array properties\n",
    "arr = np.array([[1, 2, 3], [4, 5, 6]])\n",
    "print(\"Array:\\n\", arr)\n",
    "print(\"Shape:\", arr.shape)      # Rows and columns\n",
    "print(\"Dimensions:\", arr.ndim)  # Number of dimensions\n",
    "print(\"Size:\", arr.size)        # Total number of elements\n",
    "print(\"Data Type:\", arr.dtype)  # Type of elements"
   ]
  },
  {
   "cell_type": "markdown",
   "id": "19eb49a9-496f-44f2-a353-ade56ea5528c",
   "metadata": {},
   "source": [
    "## 1.4 Indexing and Slicing"
   ]
  },
  {
   "cell_type": "markdown",
   "id": "95022da0-0e19-40af-af33-2c837ff08b78",
   "metadata": {},
   "source": [
    "### Accessing Elements"
   ]
  },
  {
   "cell_type": "code",
   "execution_count": 12,
   "id": "ca2fd387-4e6f-41bc-9083-5c69b3a79f88",
   "metadata": {},
   "outputs": [
    {
     "name": "stdout",
     "output_type": "stream",
     "text": [
      "Element at [0, 1]: 2\n"
     ]
    }
   ],
   "source": [
    "# Access elements in a 2D array\n",
    "print(\"Element at [0, 1]:\", arr[0, 1])  # Row 0, Column 1"
   ]
  },
  {
   "cell_type": "markdown",
   "id": "57744793-acfe-4006-a584-9251230fe7b7",
   "metadata": {},
   "source": [
    "### Slicing"
   ]
  },
  {
   "cell_type": "code",
   "execution_count": 13,
   "id": "7771935e-2aad-4fa1-9c1f-f10cce96a246",
   "metadata": {},
   "outputs": [
    {
     "name": "stdout",
     "output_type": "stream",
     "text": [
      "First row: [1 2 3]\n",
      "Second column: [2 5]\n"
     ]
    }
   ],
   "source": [
    "# Get specific rows/columns\n",
    "print(\"First row:\", arr[0, :])  # All columns in the first row\n",
    "print(\"Second column:\", arr[:, 1])  # All rows in the second column"
   ]
  },
  {
   "cell_type": "markdown",
   "id": "26ac2659-a0e7-4cef-80ee-f2a2aadbe8d4",
   "metadata": {},
   "source": [
    "### Boolean Indexing"
   ]
  },
  {
   "cell_type": "code",
   "execution_count": 14,
   "id": "54cc1b49-d16f-4dcb-adba-ec71c78fff08",
   "metadata": {},
   "outputs": [
    {
     "name": "stdout",
     "output_type": "stream",
     "text": [
      "Filtered Elements: [4 5 6]\n"
     ]
    }
   ],
   "source": [
    "# Filter elements greater than 3\n",
    "filtered = arr[arr > 3]\n",
    "print(\"Filtered Elements:\", filtered)"
   ]
  },
  {
   "cell_type": "markdown",
   "id": "1b12fffb-34e0-40bc-9226-212aec1dac9a",
   "metadata": {},
   "source": [
    "## 1.5 Basic Array Operations"
   ]
  },
  {
   "cell_type": "markdown",
   "id": "c6ef49c7-b9cb-4090-b528-36c857723442",
   "metadata": {},
   "source": [
    "### Element-wise Operations"
   ]
  },
  {
   "cell_type": "code",
   "execution_count": 15,
   "id": "fb1263a0-c427-41c3-aa6d-0f654c29e987",
   "metadata": {},
   "outputs": [
    {
     "name": "stdout",
     "output_type": "stream",
     "text": [
      "Addition: [5 7 9]\n",
      "Multiplication: [ 4 10 18]\n"
     ]
    }
   ],
   "source": [
    "a = np.array([1, 2, 3])\n",
    "b = np.array([4, 5, 6])\n",
    "print(\"Addition:\", a + b)\n",
    "print(\"Multiplication:\", a * b)"
   ]
  },
  {
   "cell_type": "markdown",
   "id": "82aeb54b-e3a4-48db-8116-a1f240dd298a",
   "metadata": {},
   "source": [
    "### Aggregation Functions"
   ]
  },
  {
   "cell_type": "code",
   "execution_count": 16,
   "id": "ba7f973b-f74f-4425-8cff-5009126c001a",
   "metadata": {},
   "outputs": [
    {
     "name": "stdout",
     "output_type": "stream",
     "text": [
      "Sum: 21\n",
      "Mean: 3.5\n",
      "Max: 6\n",
      "Min: 1\n"
     ]
    }
   ],
   "source": [
    "# Aggregations\n",
    "print(\"Sum:\", arr.sum())\n",
    "print(\"Mean:\", arr.mean())\n",
    "print(\"Max:\", arr.max())\n",
    "print(\"Min:\", arr.min())"
   ]
  },
  {
   "cell_type": "markdown",
   "id": "7fd3299f-0197-43a3-b64e-d9e0fb31cfdd",
   "metadata": {},
   "source": [
    "## 1.6 Reshaping and Transposing"
   ]
  },
  {
   "cell_type": "markdown",
   "id": "ac76a88c-6d79-421e-8ded-b5eeed455fc6",
   "metadata": {},
   "source": [
    "### Reshaping Arrays"
   ]
  },
  {
   "cell_type": "code",
   "execution_count": 17,
   "id": "8cbbddf4-0d26-491c-92d9-28461ff9b6e7",
   "metadata": {},
   "outputs": [
    {
     "name": "stdout",
     "output_type": "stream",
     "text": [
      "Reshaped Array:\n",
      " [[ 0  1  2  3]\n",
      " [ 4  5  6  7]\n",
      " [ 8  9 10 11]]\n"
     ]
    }
   ],
   "source": [
    "reshaped = np.arange(12).reshape(3, 4)  # Reshape to 3x4\n",
    "print(\"Reshaped Array:\\n\", reshaped)"
   ]
  },
  {
   "cell_type": "markdown",
   "id": "3ae95f41-e355-49d1-90b1-a6251cd98d35",
   "metadata": {},
   "source": [
    "### Transposing Arrays"
   ]
  },
  {
   "cell_type": "code",
   "execution_count": 18,
   "id": "b401d076-3423-4538-9bf0-4b63dbdcdda2",
   "metadata": {},
   "outputs": [
    {
     "name": "stdout",
     "output_type": "stream",
     "text": [
      "Transposed Array:\n",
      " [[ 0  4  8]\n",
      " [ 1  5  9]\n",
      " [ 2  6 10]\n",
      " [ 3  7 11]]\n"
     ]
    }
   ],
   "source": [
    "transposed = reshaped.T  # Swap rows and columns\n",
    "print(\"Transposed Array:\\n\", transposed)"
   ]
  },
  {
   "cell_type": "markdown",
   "id": "cdd462ee-e825-4e1e-92cc-d2dc85ca363a",
   "metadata": {},
   "source": [
    "---"
   ]
  },
  {
   "cell_type": "markdown",
   "id": "948e176e-90d2-4521-b560-96896e6cc133",
   "metadata": {},
   "source": [
    "# 2. NumPy advanced operations and broadcasting"
   ]
  },
  {
   "cell_type": "markdown",
   "id": "bce7dc9a-174b-4609-a6b1-2464b416457a",
   "metadata": {},
   "source": [
    "## 2.1 Element-wise Operations\n",
    "NumPy allows operations directly on arrays without needing loops."
   ]
  },
  {
   "cell_type": "markdown",
   "id": "ccdcd69f-a804-4abe-8ccd-12304e5f5a19",
   "metadata": {},
   "source": [
    "### Add, Multiply, Power"
   ]
  },
  {
   "cell_type": "code",
   "execution_count": 19,
   "id": "cca82a67-6a9e-423e-b91b-8c3ab272e636",
   "metadata": {},
   "outputs": [
    {
     "name": "stdout",
     "output_type": "stream",
     "text": [
      "Addition: [5 7 9]\n",
      "Multiplication: [ 4 10 18]\n",
      "Power: [1 4 9]\n"
     ]
    }
   ],
   "source": [
    "import numpy as np\n",
    "\n",
    "# Two arrays\n",
    "a = np.array([1, 2, 3])\n",
    "b = np.array([4, 5, 6])\n",
    "\n",
    "print(\"Addition:\", a + b)        # [5 7 9]\n",
    "print(\"Multiplication:\", a * b) # [4 10 18]\n",
    "print(\"Power:\", a ** 2)         # [1 4 9]"
   ]
  },
  {
   "cell_type": "markdown",
   "id": "71a5525d-bdb8-4e81-b4c5-897e4defa5a2",
   "metadata": {},
   "source": [
    "### Logical Operations"
   ]
  },
  {
   "cell_type": "code",
   "execution_count": 20,
   "id": "d281fdfd-063b-48fc-b001-b9ff0f536cb7",
   "metadata": {},
   "outputs": [
    {
     "name": "stdout",
     "output_type": "stream",
     "text": [
      "Comparison: [False False  True]\n"
     ]
    }
   ],
   "source": [
    "print(\"Comparison:\", a > 2)  # [False False True]"
   ]
  },
  {
   "cell_type": "markdown",
   "id": "048f5f19-0828-4cdd-b172-633d4ff57b60",
   "metadata": {},
   "source": [
    "## 2.2 Broadcasting\n",
    "Broadcasting makes it possible to perform operations on arrays of different shapes."
   ]
  },
  {
   "cell_type": "markdown",
   "id": "a3f240b9-7252-49b3-a91f-1a76e3596f47",
   "metadata": {},
   "source": [
    "### Adding Scalar to Array"
   ]
  },
  {
   "cell_type": "code",
   "execution_count": 21,
   "id": "f3b416ff-959a-4d3e-a912-5eb40f59549f",
   "metadata": {},
   "outputs": [
    {
     "name": "stdout",
     "output_type": "stream",
     "text": [
      "Add 10:\n",
      " [[11 12 13]\n",
      " [14 15 16]]\n"
     ]
    }
   ],
   "source": [
    "# Scalar broadcasted to array\n",
    "arr = np.array([[1, 2, 3], [4, 5, 6]])\n",
    "print(\"Add 10:\\n\", arr + 10)  # Each element gets 10 added"
   ]
  },
  {
   "cell_type": "markdown",
   "id": "2edeb3a2-fb48-4c03-9bc9-43abf1c795dd",
   "metadata": {},
   "source": [
    "### Broadcasting Shapes"
   ]
  },
  {
   "cell_type": "code",
   "execution_count": 22,
   "id": "3f1304b4-4dff-4d16-afdb-ff83f5f6c8c5",
   "metadata": {},
   "outputs": [
    {
     "name": "stdout",
     "output_type": "stream",
     "text": [
      "Broadcast Add:\n",
      " [[11 22 33]\n",
      " [14 25 36]]\n"
     ]
    }
   ],
   "source": [
    "# Add a 1D array to a 2D array\n",
    "a = np.array([[1, 2, 3], [4, 5, 6]])\n",
    "b = np.array([10, 20, 30])\n",
    "print(\"Broadcast Add:\\n\", a + b)"
   ]
  },
  {
   "cell_type": "markdown",
   "id": "bed7fc22-99ad-4ab4-9abc-b94ea31fb574",
   "metadata": {},
   "source": [
    "#### Broadcasting Rules:\n",
    "\n",
    "1. If the dimensions differ, pad the smaller shape with 1 on the left.\n",
    "2. If shapes are incompatible, NumPy raises an error.\n",
    "3. Size 1 dimensions can stretch to match."
   ]
  },
  {
   "cell_type": "markdown",
   "id": "7c7ba333-4aca-4805-8625-95bb63ac7d68",
   "metadata": {},
   "source": [
    "**1. If the dimensions differ, pad the smaller shape with 1 on the left.**\n",
    "\n",
    "When arrays have different numbers of dimensions, NumPy pads the smaller shape with ones on the left-hand side so that the dimensions align."
   ]
  },
  {
   "cell_type": "code",
   "execution_count": 34,
   "id": "cd1395aa-b396-4a7e-a2d9-33b446f7a6bf",
   "metadata": {},
   "outputs": [
    {
     "name": "stdout",
     "output_type": "stream",
     "text": [
      "[[11 12 13]\n",
      " [21 22 23]\n",
      " [31 32 33]]\n"
     ]
    }
   ],
   "source": [
    "import numpy as np\n",
    "\n",
    "# A 1D array\n",
    "arr1 = np.array([1, 2, 3])\n",
    "\n",
    "# A 2D array\n",
    "arr2 = np.array([[10], [20], [30]])\n",
    "\n",
    "# Broadcasting occurs here\n",
    "result = arr1 + arr2\n",
    "print(result)"
   ]
  },
  {
   "cell_type": "markdown",
   "id": "12fef3d3-dc32-4e21-a11a-593db3d2f3cc",
   "metadata": {},
   "source": [
    "#### Explanation:\n",
    "\n",
    "- arr1 has shape (3,) (1D array).\n",
    "- arr2 has shape (3, 1) (2D array).\n",
    "- NumPy \"pads\" arr1 to become (1, 3) so that dimensions match.\n",
    "- After padding, NumPy stretches arr2 to (3, 3) to perform element-wise addition."
   ]
  },
  {
   "cell_type": "markdown",
   "id": "0c735cd4-5ea8-426a-b929-c4829bea8b2d",
   "metadata": {},
   "source": [
    "**2. If shapes are incompatible, NumPy raises an error.**\n",
    "\n",
    "If the shapes cannot be aligned even after broadcasting, NumPy will throw an error."
   ]
  },
  {
   "cell_type": "code",
   "execution_count": 36,
   "id": "823362ab-a143-4cfb-8eac-ec0238bba513",
   "metadata": {},
   "outputs": [],
   "source": [
    "arr1 = np.array([1, 2, 3])      # Shape: (3,)\n",
    "arr2 = np.array([[10], [20]])   # Shape: (2, 1)\n",
    "\n",
    "# Attempt to add incompatible shapes\n",
    "result = arr1 + arr2"
   ]
  },
  {
   "cell_type": "markdown",
   "id": "035b62f3-3c89-4cbe-9db5-642d71c5abfb",
   "metadata": {},
   "source": [
    "#### Explanation:\n",
    "\n",
    "- arr1 has shape (3,), padded to (1, 3).\n",
    "- arr2 has shape (2, 1), padded to (2, 1).\n",
    "- The shapes (1, 3) and (2, 1) cannot be broadcast to a common shape because the dimensions do not match."
   ]
  },
  {
   "cell_type": "markdown",
   "id": "31c200a1-292e-4dd6-9b3f-8182cd1703d4",
   "metadata": {},
   "source": [
    "**3. Size 1 dimensions can stretch to match.**\n",
    "\n",
    "If a dimension of size 1 exists, NumPy can stretch it to match the corresponding dimension in the other array."
   ]
  },
  {
   "cell_type": "code",
   "execution_count": 37,
   "id": "fc8a0ea4-3626-4a0b-aef6-1c4bf42a5b06",
   "metadata": {},
   "outputs": [
    {
     "name": "stdout",
     "output_type": "stream",
     "text": [
      "[[10 20 30]\n",
      " [20 40 60]\n",
      " [30 60 90]]\n"
     ]
    }
   ],
   "source": [
    "arr1 = np.array([[1], [2], [3]])   # Shape: (3, 1)\n",
    "arr2 = np.array([10, 20, 30])      # Shape: (3,)\n",
    "\n",
    "# Broadcasting occurs here\n",
    "result = arr1 * arr2\n",
    "print(result)"
   ]
  },
  {
   "cell_type": "markdown",
   "id": "bbad5e52-a565-49b9-a79a-6c51fab4e7a2",
   "metadata": {},
   "source": [
    "#### Explanation:\n",
    "\n",
    "- arr1 has shape (3, 1).\n",
    "- arr2 has shape (3,), padded to (1, 3).\n",
    "- The dimension (1) in arr1 stretches to match (3) in arr2."
   ]
  },
  {
   "cell_type": "markdown",
   "id": "a5f51a2e-11cc-4afd-9c30-60b45ebaa468",
   "metadata": {},
   "source": [
    "## 2.3 Mathematical Functions\n",
    "NumPy offers many mathematical functions useful for machine learning preprocessing."
   ]
  },
  {
   "cell_type": "markdown",
   "id": "ceb5103e-1640-43b7-a0f1-6ba0d50d997f",
   "metadata": {},
   "source": [
    "### Trigonometric Functions"
   ]
  },
  {
   "cell_type": "code",
   "execution_count": 23,
   "id": "09bbe87b-bcd5-48ae-83fd-10d57d934b16",
   "metadata": {},
   "outputs": [
    {
     "name": "stdout",
     "output_type": "stream",
     "text": [
      "Sine: [0.0000000e+00 1.0000000e+00 1.2246468e-16]\n",
      "Cosine: [ 1.000000e+00  6.123234e-17 -1.000000e+00]\n"
     ]
    }
   ],
   "source": [
    "angles = np.array([0, np.pi/2, np.pi])\n",
    "print(\"Sine:\", np.sin(angles))  # [0, 1, 0]\n",
    "print(\"Cosine:\", np.cos(angles))  # [1, 0, -1]"
   ]
  },
  {
   "cell_type": "markdown",
   "id": "461fd92b-a681-4cfe-81c6-1dfe7650d43d",
   "metadata": {},
   "source": [
    "### Exponentials and Logarithms"
   ]
  },
  {
   "cell_type": "code",
   "execution_count": 24,
   "id": "90bfbb2f-7144-44c5-8502-c1242d63b90d",
   "metadata": {},
   "outputs": [
    {
     "name": "stdout",
     "output_type": "stream",
     "text": [
      "Exponential: [ 2.71828183  7.3890561  20.08553692]\n",
      "Logarithm: [0.         0.69314718 1.09861229]\n"
     ]
    }
   ],
   "source": [
    "arr = np.array([1, 2, 3])\n",
    "print(\"Exponential:\", np.exp(arr))  # [e^1, e^2, e^3]\n",
    "print(\"Logarithm:\", np.log(arr))   # Natural log"
   ]
  },
  {
   "cell_type": "markdown",
   "id": "b4f0eb71-ac84-40e6-9dd1-23ac58ea1b41",
   "metadata": {},
   "source": [
    "## 2.4 Advanced Indexing"
   ]
  },
  {
   "cell_type": "markdown",
   "id": "c4ffd52f-6281-406d-8d68-2c749ab983e8",
   "metadata": {},
   "source": [
    "### Boolean Indexing"
   ]
  },
  {
   "cell_type": "code",
   "execution_count": 25,
   "id": "ba38a9ec-c6e9-4b02-9a7e-61f23883eb16",
   "metadata": {},
   "outputs": [
    {
     "name": "stdout",
     "output_type": "stream",
     "text": [
      "Filtered: [4 5]\n"
     ]
    }
   ],
   "source": [
    "# Extract elements satisfying a condition\n",
    "arr = np.array([1, 2, 3, 4, 5])\n",
    "filtered = arr[arr > 3]\n",
    "print(\"Filtered:\", filtered)  # [4, 5]"
   ]
  },
  {
   "cell_type": "markdown",
   "id": "8c94bfcc-63e5-4b19-a2af-5fa3e3bd655b",
   "metadata": {},
   "source": [
    "#### Example:\n",
    "If f is an array and you want to replace all elements greater than 10 with -1, you can use boolean indexing in NumPy."
   ]
  },
  {
   "cell_type": "code",
   "execution_count": 16,
   "id": "f31f5c02-dd03-4fe3-b2e6-3d44e8b013f4",
   "metadata": {},
   "outputs": [
    {
     "name": "stdout",
     "output_type": "stream",
     "text": [
      "[ 5 -1  8 -1  3]\n"
     ]
    }
   ],
   "source": [
    "import numpy as np\n",
    "\n",
    "f = np.array([5, 12, 8, 20, 3])  # Example array\n",
    "\n",
    "# Replace elements greater than 10 with -1\n",
    "f[f > 10] = -1\n",
    "print(f)"
   ]
  },
  {
   "cell_type": "markdown",
   "id": "28057da9-829b-4920-be99-713d0bd5f45d",
   "metadata": {},
   "source": [
    "### Fancy Indexing"
   ]
  },
  {
   "cell_type": "code",
   "execution_count": 26,
   "id": "274e9828-9580-4dc1-9827-850f64d0598b",
   "metadata": {},
   "outputs": [
    {
     "name": "stdout",
     "output_type": "stream",
     "text": [
      "Fancy Indexed: [1 3 5]\n"
     ]
    }
   ],
   "source": [
    "# Index with a list of indices\n",
    "indices = [0, 2, 4]\n",
    "print(\"Fancy Indexed:\", arr[indices])  # [1, 3, 5]"
   ]
  },
  {
   "cell_type": "markdown",
   "id": "71a4b119-dfe3-4b96-9fd7-fdb54a208edd",
   "metadata": {},
   "source": [
    "## 2.5 Linear Algebra\n",
    "Linear algebra is essential for machine learning models like linear regression."
   ]
  },
  {
   "cell_type": "markdown",
   "id": "2a3abe00-c4da-47b9-ac75-1e39164ecfc6",
   "metadata": {},
   "source": [
    "### Dot Product"
   ]
  },
  {
   "cell_type": "code",
   "execution_count": 19,
   "id": "997296e0-5853-47b5-a9d2-d78fb5c68593",
   "metadata": {},
   "outputs": [
    {
     "name": "stdout",
     "output_type": "stream",
     "text": [
      "Matrix A:\n",
      "[[1 2]\n",
      " [3 4]]\n",
      "\n",
      "Matrix B:\n",
      "[[5 6]\n",
      " [7 8]]\n",
      "\n",
      "Dot Product (using np.dot):\n",
      "[[19 22]\n",
      " [43 50]]\n",
      "\n",
      "Dot Product (using @ operator):\n",
      "[[19 22]\n",
      " [43 50]]\n"
     ]
    }
   ],
   "source": [
    "# Example matrices\n",
    "A = np.array([[1, 2],\n",
    "              [3, 4]])\n",
    "\n",
    "B = np.array([[5, 6],\n",
    "              [7, 8]])\n",
    "\n",
    "# Dot product using np.dot\n",
    "dot_product = np.dot(A, B)\n",
    "\n",
    "# Dot product using @ operator\n",
    "dot_product_alt = A @ B\n",
    "\n",
    "print(\"Matrix A:\")\n",
    "print(A)\n",
    "print(\"\\nMatrix B:\")\n",
    "print(B)\n",
    "print(\"\\nDot Product (using np.dot):\")\n",
    "print(dot_product)\n",
    "print(\"\\nDot Product (using @ operator):\")\n",
    "print(dot_product_alt)"
   ]
  },
  {
   "cell_type": "markdown",
   "id": "9c7f166b-8646-424b-a446-a8eedbf7e179",
   "metadata": {},
   "source": [
    "#### Explanation\n",
    "1. **Using** np.dot **or** @:\n",
    "- Compute each element of the result matrix:\n",
    "\n",
    "$$ Result[0][0] = (1×5)+(2×7)=19 $$\n",
    "\n",
    "$$ Result[0][1] = (1×6)+(2×8)=22 $$\n",
    ">And so on for the rest of the elements.\n",
    "\n",
    "2. **Equivalence of** np.dot **and** @:\n",
    "\n",
    "- Both produce the same result. Use @ for shorter, more Pythonic syntax in newer Python versions."
   ]
  },
  {
   "cell_type": "markdown",
   "id": "180afd05-1db0-48e7-bb7c-660bbeeb0f94",
   "metadata": {},
   "source": [
    "#### For Non-Square Matrices\n",
    "The matrices must satisfy the rule that **the number of columns in the first matrix equals the number of rows in the second matrix**. Example:"
   ]
  },
  {
   "cell_type": "code",
   "execution_count": 20,
   "id": "cb369d46-8aa1-4fb6-ba32-7e977f9f9f76",
   "metadata": {},
   "outputs": [
    {
     "name": "stdout",
     "output_type": "stream",
     "text": [
      "Dot Product of A and B:\n",
      "[[ 58  64]\n",
      " [139 154]]\n"
     ]
    }
   ],
   "source": [
    "A = np.array([[1, 2, 3], [4, 5, 6]])  # 2x3 matrix\n",
    "B = np.array([[7, 8], [9, 10], [11, 12]])  # 3x2 matrix\n",
    "\n",
    "dot_product = np.dot(A, B)\n",
    "print(\"Dot Product of A and B:\")\n",
    "print(dot_product)"
   ]
  },
  {
   "cell_type": "markdown",
   "id": "2245fd0c-a227-415d-a635-ca6fc4ee630a",
   "metadata": {},
   "source": [
    "### Matrix Multiplication"
   ]
  },
  {
   "cell_type": "markdown",
   "id": "abb4e4d0-d29a-47ce-8909-2c9a10cbc71e",
   "metadata": {},
   "source": [
    "The **matrix product** is essentially the same as the **dot product** for two 2D matrices. In NumPy, you calculate the matrix product using either:\n",
    "\n",
    "- np.dot\n",
    "- @ operator\n",
    "- np.matmul\n",
    "\n",
    "All three produce the same result for 2D matrices."
   ]
  },
  {
   "cell_type": "code",
   "execution_count": 21,
   "id": "17730459-f6cf-4f74-9255-f6b65a1edbf8",
   "metadata": {},
   "outputs": [
    {
     "name": "stdout",
     "output_type": "stream",
     "text": [
      "Matrix A:\n",
      "[[1 2]\n",
      " [3 4]]\n",
      "\n",
      "Matrix B:\n",
      "[[5 6]\n",
      " [7 8]]\n",
      "\n",
      "Matrix Product (using np.dot):\n",
      "[[19 22]\n",
      " [43 50]]\n",
      "\n",
      "Matrix Product (using @ operator):\n",
      "[[19 22]\n",
      " [43 50]]\n",
      "\n",
      "Matrix Product (using np.matmul):\n",
      "[[19 22]\n",
      " [43 50]]\n"
     ]
    }
   ],
   "source": [
    "# Example matrices\n",
    "A = np.array([[1, 2],\n",
    "              [3, 4]])\n",
    "\n",
    "B = np.array([[5, 6],\n",
    "              [7, 8]])\n",
    "\n",
    "# Matrix product using np.dot\n",
    "matrix_product = np.dot(A, B)\n",
    "\n",
    "# Matrix product using @ operator\n",
    "matrix_product_alt = A @ B\n",
    "\n",
    "# Matrix product using np.matmul\n",
    "matrix_product_alt2 = np.matmul(A, B)\n",
    "\n",
    "print(\"Matrix A:\")\n",
    "print(A)\n",
    "print(\"\\nMatrix B:\")\n",
    "print(B)\n",
    "print(\"\\nMatrix Product (using np.dot):\")\n",
    "print(matrix_product)\n",
    "print(\"\\nMatrix Product (using @ operator):\")\n",
    "print(matrix_product_alt)\n",
    "print(\"\\nMatrix Product (using np.matmul):\")\n",
    "print(matrix_product_alt2)"
   ]
  },
  {
   "cell_type": "markdown",
   "id": "9e49294d-900e-45dc-8508-9c20e5c9fcd4",
   "metadata": {},
   "source": [
    "#### Difference Between np.dot and np.matmul\n",
    "For **2D matrices**, np.dot and np.matmul behave identically. However:\n",
    "\n",
    "- np.matmul:\n",
    ">- Supports broadcasting for **higher-dimensional arrays**.\n",
    ">- Follows strict matrix multiplication rules.\n",
    "\n",
    "- np.dot:\n",
    ">- Can also perform **vector dot products** and **scalar multiplication**."
   ]
  },
  {
   "cell_type": "markdown",
   "id": "b4831360-07d6-4a1f-af51-8a31044d74c8",
   "metadata": {},
   "source": [
    "#### For Larger Matrices (Non-Square)"
   ]
  },
  {
   "cell_type": "code",
   "execution_count": 22,
   "id": "e4905fea-5040-4e1f-b0f9-603e3df5016c",
   "metadata": {},
   "outputs": [
    {
     "name": "stdout",
     "output_type": "stream",
     "text": [
      "Matrix Product:\n",
      "[[ 58  64]\n",
      " [139 154]]\n"
     ]
    }
   ],
   "source": [
    "A = np.array([[1, 2, 3],\n",
    "              [4, 5, 6]])\n",
    "\n",
    "B = np.array([[7, 8],\n",
    "              [9, 10],\n",
    "              [11, 12]])\n",
    "\n",
    "# Matrix product\n",
    "matrix_product = A @ B  # or np.dot(A, B)\n",
    "\n",
    "print(\"Matrix Product:\")\n",
    "print(matrix_product)"
   ]
  },
  {
   "cell_type": "markdown",
   "id": "fae4ccbf-0c56-498e-887f-282bc9159fbb",
   "metadata": {},
   "source": [
    "### Inverse and Determinant"
   ]
  },
  {
   "cell_type": "code",
   "execution_count": 29,
   "id": "294520bd-4ffb-4139-b265-7b1ed39a1528",
   "metadata": {},
   "outputs": [
    {
     "name": "stdout",
     "output_type": "stream",
     "text": [
      "Inverse:\n",
      " [[-2.   1. ]\n",
      " [ 1.5 -0.5]]\n",
      "Determinant: -2.0000000000000004\n"
     ]
    }
   ],
   "source": [
    "# Inverse of a matrix\n",
    "matrix = np.array([[1, 2], [3, 4]])\n",
    "inverse = np.linalg.inv(matrix)\n",
    "print(\"Inverse:\\n\", inverse)\n",
    "\n",
    "# Determinant\n",
    "det = np.linalg.det(matrix)\n",
    "print(\"Determinant:\", det)"
   ]
  },
  {
   "cell_type": "markdown",
   "id": "be2ccac4-6014-4d7c-9c39-c373640c4589",
   "metadata": {},
   "source": [
    "## 2.6 Statistical Operations\n",
    "Understanding data distribution is vital for machine learning."
   ]
  },
  {
   "cell_type": "markdown",
   "id": "a44d458f-5ea7-42a9-95ce-6f0dc2566cec",
   "metadata": {},
   "source": [
    "### Mean, Median, and Standard Deviation"
   ]
  },
  {
   "cell_type": "code",
   "execution_count": 30,
   "id": "b23b43d6-af97-4b50-9488-3a172f56850d",
   "metadata": {},
   "outputs": [
    {
     "name": "stdout",
     "output_type": "stream",
     "text": [
      "Mean: 3.0\n",
      "Median: 3.0\n",
      "Standard Deviation: 1.4142135623730951\n"
     ]
    }
   ],
   "source": [
    "data = np.array([1, 2, 3, 4, 5])\n",
    "print(\"Mean:\", np.mean(data))\n",
    "print(\"Median:\", np.median(data))\n",
    "print(\"Standard Deviation:\", np.std(data))"
   ]
  },
  {
   "cell_type": "markdown",
   "id": "115ab779-4a22-483e-aa13-e5b1892b7272",
   "metadata": {},
   "source": [
    "**For 2D Arrays**:"
   ]
  },
  {
   "cell_type": "code",
   "execution_count": 18,
   "id": "6b759b28-bb61-411b-8d26-4c12158ca817",
   "metadata": {},
   "outputs": [
    {
     "name": "stdout",
     "output_type": "stream",
     "text": [
      "Sum: 45 | Column Sum: [12 15 18] | Row Sum: [ 6 15 24]\n",
      "Mean: 5.0 | Column Mean: [4. 5. 6.] | Row Mean: [2. 5. 8.]\n",
      "Standard Deviation: 2.581988897471611 | Column Std: [2.44948974 2.44948974 2.44948974] | Row Std: [0.81649658 0.81649658 0.81649658]\n"
     ]
    }
   ],
   "source": [
    "# Example 2D array\n",
    "arr_2d = np.array([[1, 2, 3],\n",
    "                   [4, 5, 6],\n",
    "                   [7, 8, 9]])\n",
    "\n",
    "# Sum\n",
    "total_sum = np.sum(arr_2d)  # Entire array\n",
    "col_sum = np.sum(arr_2d, axis=0)  # Column-wise\n",
    "row_sum = np.sum(arr_2d, axis=1)  # Row-wise\n",
    "\n",
    "# Mean\n",
    "mean = np.mean(arr_2d)  # Entire array\n",
    "col_mean = np.mean(arr_2d, axis=0)  # Column-wise\n",
    "row_mean = np.mean(arr_2d, axis=1)  # Row-wise\n",
    "\n",
    "# Standard Deviation\n",
    "std_dev = np.std(arr_2d)  # Entire array\n",
    "col_std = np.std(arr_2d, axis=0)  # Column-wise\n",
    "row_std = np.std(arr_2d, axis=1)  # Row-wise\n",
    "\n",
    "print(\"Sum:\", total_sum, \"| Column Sum:\", col_sum, \"| Row Sum:\", row_sum)\n",
    "print(\"Mean:\", mean, \"| Column Mean:\", col_mean, \"| Row Mean:\", row_mean)\n",
    "print(\"Standard Deviation:\", std_dev, \"| Column Std:\", col_std, \"| Row Std:\", row_std)"
   ]
  },
  {
   "cell_type": "markdown",
   "id": "52698475-8313-450c-be0e-0eec6bc4599c",
   "metadata": {},
   "source": [
    "#### Example:\n",
    "To subtract the mean of each column from the respective column in a 2D NumPy array, you can use the following approach:\n",
    "1. Compute the mean of each column using np.mean with axis=0.\n",
    "2. Subtract the column means from the original array using broadcasting."
   ]
  },
  {
   "cell_type": "code",
   "execution_count": 17,
   "id": "dfa09cd6-072a-4e83-88c8-96fd2c7885ef",
   "metadata": {},
   "outputs": [
    {
     "name": "stdout",
     "output_type": "stream",
     "text": [
      "Original Array:\n",
      "[[1 2 3]\n",
      " [4 5 6]\n",
      " [7 8 9]]\n",
      "\n",
      "Column Means:\n",
      "[4. 5. 6.]\n",
      "\n",
      "Array After Subtracting Column Means:\n",
      "[[-3. -3. -3.]\n",
      " [ 0.  0.  0.]\n",
      " [ 3.  3.  3.]]\n"
     ]
    }
   ],
   "source": [
    "import numpy as np\n",
    "\n",
    "# Example 2D array\n",
    "arr = np.array([[1, 2, 3],\n",
    "                [4, 5, 6],\n",
    "                [7, 8, 9]])\n",
    "\n",
    "# Compute column means\n",
    "col_means = np.mean(arr, axis=0)\n",
    "\n",
    "# Subtract column means from each column\n",
    "result = arr - col_means\n",
    "\n",
    "print(\"Original Array:\")\n",
    "print(arr)\n",
    "print(\"\\nColumn Means:\")\n",
    "print(col_means)\n",
    "print(\"\\nArray After Subtracting Column Means:\")\n",
    "print(result)"
   ]
  },
  {
   "cell_type": "markdown",
   "id": "fb363f1a-2da8-4bf1-aab0-44a7f8fc1aa2",
   "metadata": {},
   "source": [
    "#### Understanding Dimensions\n",
    "For a 2D array:\n",
    "\n",
    "- **Axis 0**: Operates along the rows (column-wise operation).\n",
    "- **Axis 1**: Operates along the columns (row-wise operation).\n",
    "\n",
    "For a 3D array:\n",
    "- **Axis 0**: Operates along the depth (across matrices).\n",
    "- **Axis 1**: Operates along the rows (within each matrix).\n",
    "- **Axis 2**: Operates along the columns (within each matrix)."
   ]
  },
  {
   "cell_type": "markdown",
   "id": "4cbc8227-4bf4-4a38-9c6a-64b163f264db",
   "metadata": {},
   "source": [
    "### Percentiles\n",
    "A percentile is a measure that indicates the value below which a given percentage of the data falls. For example:\n",
    "\n",
    "- The **25th percentile** (also called the first quartile, Q1) is the value below which 25% of the data lies.\n",
    "- The **50th percentile** is the median (middle value) of the data.\n",
    "- The **75th percentile** (third quartile, Q3) is the value below which 75% of the data lies."
   ]
  },
  {
   "cell_type": "markdown",
   "id": "e16f208e-b2fd-4026-af65-2c63d601751e",
   "metadata": {},
   "source": [
    "### Syntax"
   ]
  },
  {
   "cell_type": "raw",
   "id": "4468f4c9-b876-4c7a-9034-ba994a896013",
   "metadata": {},
   "source": [
    "np.percentile(data, q, axis=None)"
   ]
  },
  {
   "cell_type": "markdown",
   "id": "b77a62a7-d5ae-4ea5-8e00-894da5ed8de5",
   "metadata": {},
   "source": [
    "- *data*: The input data (array-like) to calculate the percentile.\n",
    "- *q*: The percentile to compute (e.g., 25 for the 25th percentile).\n",
    "- *axis*: (Optional) Axis along which to calculate the percentile. If None (default), it computes over the flattened array."
   ]
  },
  {
   "cell_type": "markdown",
   "id": "126d8d06-4062-47b8-af94-c3537d7a1bad",
   "metadata": {},
   "source": [
    "#### 1. Single Percentile"
   ]
  },
  {
   "cell_type": "code",
   "execution_count": 1,
   "id": "05c6525f-ea7a-4438-bca4-4f586575419e",
   "metadata": {},
   "outputs": [
    {
     "name": "stdout",
     "output_type": "stream",
     "text": [
      "25th Percentile: 3.0\n"
     ]
    }
   ],
   "source": [
    "import numpy as np\n",
    "\n",
    "data = [1, 3, 5, 7, 9]\n",
    "percentile_25 = np.percentile(data, 25)\n",
    "print(\"25th Percentile:\", percentile_25)"
   ]
  },
  {
   "cell_type": "markdown",
   "id": "bd0e67d2-dac3-4d1d-9b47-c34f165d3bd2",
   "metadata": {},
   "source": [
    "#### Explanation:\n",
    "\n",
    "- data = [1, 3, 5, 7, 9] (sorted data).\n",
    "- The 25th percentile is the value below which 25% of the data falls. Here, it's 3."
   ]
  },
  {
   "cell_type": "markdown",
   "id": "602d3f4e-228f-4512-b93d-49df69a9ad26",
   "metadata": {},
   "source": [
    "### 2. Multiple Percentiles\n",
    "You can calculate several percentiles at once by passing a list to q."
   ]
  },
  {
   "cell_type": "code",
   "execution_count": 2,
   "id": "623e2fc7-0593-4982-a7fa-d7a1812bb26d",
   "metadata": {},
   "outputs": [
    {
     "name": "stdout",
     "output_type": "stream",
     "text": [
      "25th, 50th, 75th Percentiles: [3. 5. 7.]\n"
     ]
    }
   ],
   "source": [
    "percentiles = np.percentile(data, [25, 50, 75])\n",
    "print(\"25th, 50th, 75th Percentiles:\", percentiles)"
   ]
  },
  {
   "cell_type": "markdown",
   "id": "d6333c0e-1258-4481-aa6b-6bf0a23cc4d2",
   "metadata": {},
   "source": [
    "### Explanation:\n",
    "\n",
    "-  percentile = 3\n",
    "- 50th percentile = Median = 5\n",
    "- 75th percentile = 7"
   ]
  },
  {
   "cell_type": "markdown",
   "id": "b74851c8-af72-44f9-9c0e-f12d785ae86b",
   "metadata": {},
   "source": [
    "### 3. Percentile with a 2D Array\n",
    "When working with 2D data, you can use the axis argument to calculate percentiles along specific dimensions."
   ]
  },
  {
   "cell_type": "code",
   "execution_count": 4,
   "id": "9b41dcda-9c9f-417d-8114-fa747c50baf6",
   "metadata": {},
   "outputs": [
    {
     "name": "stdout",
     "output_type": "stream",
     "text": [
      "50th Percentile across rows: [20. 50.]\n",
      "50th Percentile across columns: [25. 35. 45.]\n"
     ]
    }
   ],
   "source": [
    "data = np.array([[10, 20, 30], [40, 50, 60]])\n",
    "\n",
    "# Percentile across rows (axis=1)\n",
    "row_percentiles = np.percentile(data, 50, axis=1)\n",
    "print(\"50th Percentile across rows:\", row_percentiles)\n",
    "\n",
    "# Percentile across columns (axis=0)\n",
    "column_percentiles = np.percentile(data, 50, axis=0)\n",
    "print(\"50th Percentile across columns:\", column_percentiles)"
   ]
  },
  {
   "cell_type": "markdown",
   "id": "fba0caaa-209f-4803-9a50-95a33a83191d",
   "metadata": {},
   "source": [
    "### Explanation:\n",
    "\n",
    "- For rows (axis=1):\n",
    ">- Row 1: Median of [10, 20, 30] = 20.\n",
    "Row 2: Median of [40, 50, 60] = 50.\n",
    "\n",
    "- For columns (axis=0):\n",
    ">- Column 1: Median of [10, 40] = 25.\n",
    ">- Column 2: Median of [20, 50] = 35.\n",
    ">- Column 3: Median of [30, 60] = 45."
   ]
  },
  {
   "cell_type": "markdown",
   "id": "38edc306-b52c-4644-990b-49453921fbf2",
   "metadata": {},
   "source": [
    "### 4. Interpolation in Percentiles\n",
    "By default, np.percentile uses linear interpolation when the desired percentile lies between two data points. You can control this using the interpolation argument (now replaced by method)."
   ]
  },
  {
   "cell_type": "code",
   "execution_count": 5,
   "id": "abe4dc1f-6f0c-4d64-9d9a-c99798ff16ec",
   "metadata": {},
   "outputs": [
    {
     "name": "stdout",
     "output_type": "stream",
     "text": [
      "25th Percentile (linear): 17.5\n",
      "25th Percentile (lower): 10\n"
     ]
    }
   ],
   "source": [
    "data = [10, 20, 30, 40]\n",
    "\n",
    "# Default (linear interpolation)\n",
    "percentile_25 = np.percentile(data, 25, method=\"linear\")\n",
    "print(\"25th Percentile (linear):\", percentile_25)\n",
    "\n",
    "# Lower interpolation\n",
    "percentile_25_lower = np.percentile(data, 25, method=\"lower\")\n",
    "print(\"25th Percentile (lower):\", percentile_25_lower)"
   ]
  },
  {
   "cell_type": "markdown",
   "id": "0ffa08bb-8ccb-4ecc-846e-a8690b04bc9a",
   "metadata": {},
   "source": [
    "### Explanation:\n",
    "\n",
    "- **Linear**: Interpolates between 10 and 20 (0.25 of the way).\n",
    "- **Lower**: Chooses the closest lower value (10)."
   ]
  },
  {
   "cell_type": "markdown",
   "id": "16e65c0e-1480-4006-b8a4-7fe92a8e8f14",
   "metadata": {},
   "source": [
    "### When to Use Percentiles?\n",
    "Percentiles are widely used in:\n",
    "\n",
    "1. **Statistical Analysis**: To understand the distribution of data.\n",
    ">- E.g., Finding quartiles for box plots.\n",
    "\n",
    "2. **Outlier Detection**: Detecting anomalies by checking values outside the 1st and 99th percentiles.\n",
    "3. **Machine Learning**: Normalizing or scaling data by clipping it based on percentiles.\n",
    ">- E.g., Clipping data to the 1st and 99th percentiles to remove extreme values."
   ]
  },
  {
   "cell_type": "markdown",
   "id": "4b88f50f-b13d-4e08-8992-983e7d002fa6",
   "metadata": {},
   "source": [
    "## 2.7 Optimizing Array Operations"
   ]
  },
  {
   "cell_type": "markdown",
   "id": "ff082822-534e-428a-8e43-313b6ab9448f",
   "metadata": {},
   "source": [
    "### Avoiding Loops\n",
    "Loops can slow down code. Instead, use vectorized operations."
   ]
  },
  {
   "cell_type": "code",
   "execution_count": 32,
   "id": "9b095af1-651e-44a5-87e4-8f3de3f73327",
   "metadata": {},
   "outputs": [],
   "source": [
    "# Slow\n",
    "result = []\n",
    "for x in arr:\n",
    "    result.append(x ** 2)\n",
    "\n",
    "# Fast\n",
    "result = arr ** 2"
   ]
  },
  {
   "cell_type": "markdown",
   "id": "923a6dcf-9c1c-4e59-832e-998b20171fcc",
   "metadata": {},
   "source": [
    "### Memory Views\n",
    "When slicing, NumPy provides a \"view\" instead of copying data."
   ]
  },
  {
   "cell_type": "code",
   "execution_count": 33,
   "id": "e447049f-f344-4d51-a2ed-61c689eeab87",
   "metadata": {},
   "outputs": [
    {
     "name": "stdout",
     "output_type": "stream",
     "text": [
      "Original Array: [ 1 99  3  4]\n"
     ]
    }
   ],
   "source": [
    "a = np.array([1, 2, 3, 4])\n",
    "b = a[1:3]\n",
    "b[0] = 99\n",
    "print(\"Original Array:\", a)  # [1 99 3 4]"
   ]
  },
  {
   "cell_type": "markdown",
   "id": "f34ab18f-238c-4461-9315-1040de1dfe5f",
   "metadata": {},
   "source": [
    "## 2.8 Stacking Arrays\n",
    "In NumPy, you can stack arrays either horizontally or vertically using specific functions. Here's how to do it:"
   ]
  },
  {
   "cell_type": "markdown",
   "id": "1d573d6a-5a70-4e82-9cb4-64deb2b32336",
   "metadata": {},
   "source": [
    "### 1. Horizontal Stacking\n",
    "Horizontal stacking combines arrays side-by-side along their columns.\n",
    "\n",
    "**Function**: np.hstack"
   ]
  },
  {
   "cell_type": "code",
   "execution_count": 9,
   "id": "e7da0e7b-0fdf-4c53-9ec3-6408aa4023cf",
   "metadata": {},
   "outputs": [
    {
     "name": "stdout",
     "output_type": "stream",
     "text": [
      "[1 2 3 4 5 6]\n"
     ]
    }
   ],
   "source": [
    "import numpy as np\n",
    "\n",
    "# Example arrays\n",
    "a = np.array([1, 2, 3])\n",
    "b = np.array([4, 5, 6])\n",
    "\n",
    "# Horizontal stacking\n",
    "h_stack = np.hstack((a, b))\n",
    "print(h_stack)"
   ]
  },
  {
   "cell_type": "markdown",
   "id": "5ae390dc-08a5-460b-9ba5-3b9ac3bec6a1",
   "metadata": {},
   "source": [
    "**For 2D Arrays**:"
   ]
  },
  {
   "cell_type": "code",
   "execution_count": 10,
   "id": "1fcb0906-b6ae-459b-8508-ad5dbd5d579a",
   "metadata": {},
   "outputs": [
    {
     "name": "stdout",
     "output_type": "stream",
     "text": [
      "[[1 2 5 6]\n",
      " [3 4 7 8]]\n"
     ]
    }
   ],
   "source": [
    "a = np.array([[1, 2], [3, 4]])\n",
    "b = np.array([[5, 6], [7, 8]])\n",
    "\n",
    "h_stack = np.hstack((a, b))\n",
    "print(h_stack)"
   ]
  },
  {
   "cell_type": "markdown",
   "id": "d4886bba-da43-4c3c-b5da-8068babb87e9",
   "metadata": {},
   "source": [
    "### 2. Vertical Stacking\n",
    "Vertical stacking combines arrays on top of each other along their rows.\n",
    "\n",
    "**Function**: np.vstack"
   ]
  },
  {
   "cell_type": "code",
   "execution_count": 12,
   "id": "b47e2119-7f3b-47cd-ac88-47ff3cbcbb40",
   "metadata": {},
   "outputs": [
    {
     "name": "stdout",
     "output_type": "stream",
     "text": [
      "[[1 2 3]\n",
      " [4 5 6]]\n"
     ]
    }
   ],
   "source": [
    "# Example arrays\n",
    "a = np.array([1, 2, 3])\n",
    "b = np.array([4, 5, 6])\n",
    "\n",
    "# Vertical stacking\n",
    "v_stack = np.vstack((a, b))\n",
    "print(v_stack)"
   ]
  },
  {
   "cell_type": "markdown",
   "id": "4cd4bca5-c9e1-45d7-a319-4732859b6d34",
   "metadata": {},
   "source": [
    "**For 2D Arrays**:"
   ]
  },
  {
   "cell_type": "code",
   "execution_count": 13,
   "id": "26cfd2a2-cb6b-4ea4-a4f7-11a03bec602d",
   "metadata": {},
   "outputs": [
    {
     "name": "stdout",
     "output_type": "stream",
     "text": [
      "[[1 2]\n",
      " [3 4]\n",
      " [5 6]\n",
      " [7 8]]\n"
     ]
    }
   ],
   "source": [
    "a = np.array([[1, 2], [3, 4]])\n",
    "b = np.array([[5, 6], [7, 8]])\n",
    "\n",
    "v_stack = np.vstack((a, b))\n",
    "print(v_stack)"
   ]
  },
  {
   "cell_type": "markdown",
   "id": "278426fe-ec90-4cb3-bf30-f2c981fba37b",
   "metadata": {},
   "source": [
    "### 3. Other Stacking Methods\n",
    "**Column Stacking** (np.column_stack)\n",
    "\n",
    "Stacks 1D arrays as columns in a 2D array:"
   ]
  },
  {
   "cell_type": "code",
   "execution_count": 14,
   "id": "becdf88b-dfc6-4098-95ec-06222070a431",
   "metadata": {},
   "outputs": [
    {
     "name": "stdout",
     "output_type": "stream",
     "text": [
      "[[1 4]\n",
      " [2 5]\n",
      " [3 6]]\n"
     ]
    }
   ],
   "source": [
    "a = np.array([1, 2, 3])\n",
    "b = np.array([4, 5, 6])\n",
    "\n",
    "col_stack = np.column_stack((a, b))\n",
    "print(col_stack)"
   ]
  },
  {
   "cell_type": "markdown",
   "id": "9a09f81b-7663-4b5f-8b5c-6e7686cb6acc",
   "metadata": {},
   "source": [
    "---"
   ]
  },
  {
   "cell_type": "markdown",
   "id": "1192e787-5faf-46d0-8523-63037d5461b2",
   "metadata": {},
   "source": [
    "# 3. Solving a Linear System of Equations Using NumPy"
   ]
  },
  {
   "cell_type": "markdown",
   "id": "ac86f7cc-7227-40e4-b438-0f8f6d488ac0",
   "metadata": {},
   "source": [
    "Using **numpy.linalg.solve**, you can solve a system of linear equations represented in the form:\n",
    "$$\n",
    "A⋅x=B\n",
    "$$"
   ]
  },
  {
   "cell_type": "markdown",
   "id": "9055d686-f889-4512-b192-e736267f0d85",
   "metadata": {},
   "source": [
    "### What does this mean?\n",
    "\n",
    "- **A**: A **coefficient matrix** (2D array) where each row corresponds to the coefficients of one equation.\n",
    "\n",
    "- x: A column vector (unknown variables) to be solved.\n",
    "\n",
    "- **B**: A column vector (or array) of constants on the right-hand side of the equations."
   ]
  },
  {
   "cell_type": "markdown",
   "id": "0f88befc-acb9-456c-9006-baa558f61898",
   "metadata": {},
   "source": [
    "## The Problem\n",
    "To use numpy.linalg.solve, you need to have a system of linear equations. For example:\n",
    "\n",
    "Solve the following system:\n",
    "$$\n",
    "2x+y=5\n",
    "$$$$\n",
    "x−y=1\n",
    "$$"
   ]
  },
  {
   "cell_type": "markdown",
   "id": "540ca1d8-4360-4576-b553-ad788a583cf0",
   "metadata": {},
   "source": [
    "### How to Represent It in Matrix Form\n",
    "The system can be rewritten as:\n",
    "$$ \n",
    "\\left [\n",
    "\\begin{matrix}\n",
    "2 & 1 \\\\\n",
    "1 & -1 \\\\\n",
    "\\end{matrix}\n",
    "\\right ]\n",
    ".\n",
    "\\left [\n",
    "\\begin{matrix}\n",
    "x\\\\\n",
    "y\\\\\n",
    "\\end{matrix}\n",
    "\\right ]=\n",
    "\\left [\n",
    "\\begin{matrix}\n",
    "5\\\\\n",
    "1\\\\\n",
    "\\end{matrix}\n",
    "\\right ]$$\n",
    "\n",
    "Here:\n",
    "\n",
    "- $$ A=\n",
    "\\left [\n",
    "\\begin{matrix}\n",
    "2 & 1 \\\\\n",
    "1 & -1 \\\\\n",
    "\\end{matrix}\n",
    "\\right ]\n",
    "$$ \n",
    "\n",
    "- $$ B=\n",
    "\\left [\n",
    "\\begin{matrix}\n",
    "5\\\\\n",
    "1\\\\\n",
    "\\end{matrix}\n",
    "\\right ]$$\n",
    "\n",
    "The goal is to find:\n",
    "$$ \n",
    "x=\n",
    "\\left [\n",
    "\\begin{matrix}\n",
    "x\\\\\n",
    "y\\\\\n",
    "\\end{matrix}\n",
    "\\right ]$$"
   ]
  },
  {
   "cell_type": "code",
   "execution_count": 23,
   "id": "dbf8d715-2a75-42d8-923b-5adbb40931f7",
   "metadata": {},
   "outputs": [
    {
     "name": "stdout",
     "output_type": "stream",
     "text": [
      "Solution (x): [2. 1.]\n"
     ]
    }
   ],
   "source": [
    "import numpy as np\n",
    "\n",
    "# Coefficient matrix A\n",
    "A = np.array([[2, 1],\n",
    "              [1, -1]])\n",
    "\n",
    "# Constants vector B\n",
    "B = np.array([5, 1])\n",
    "\n",
    "# Solve for x\n",
    "x = np.linalg.solve(A, B)\n",
    "\n",
    "print(\"Solution (x):\", x)"
   ]
  },
  {
   "cell_type": "markdown",
   "id": "fa91833e-02b1-4304-98bb-4f19f2fdbb9c",
   "metadata": {},
   "source": [
    "### Real-World Example\n",
    "If you're solving equations like:\n",
    "$$\n",
    "3x+2y−z=1\n",
    "$$$$\n",
    "2x−2y+4z=−2\n",
    "$$$$\n",
    "−x+ (1/2)y−z=0\n",
    " $$\n",
    " You can represent it as:"
   ]
  },
  {
   "cell_type": "code",
   "execution_count": 24,
   "id": "a2aa2e21-7ff4-4787-9f2b-eb909eb26722",
   "metadata": {},
   "outputs": [
    {
     "name": "stdout",
     "output_type": "stream",
     "text": [
      "Solution: [ 1. -2. -2.]\n"
     ]
    }
   ],
   "source": [
    "A = np.array([[3, 2, -1],\n",
    "              [2, -2, 4],\n",
    "              [-1, 0.5, -1]])\n",
    "\n",
    "B = np.array([1, -2, 0])\n",
    "\n",
    "x = np.linalg.solve(A, B)\n",
    "print(\"Solution:\", x)"
   ]
  },
  {
   "cell_type": "markdown",
   "id": "d76cef6d-c92b-4594-924f-0a759a5bf72d",
   "metadata": {},
   "source": [
    "---"
   ]
  },
  {
   "cell_type": "markdown",
   "id": "6bdac55c-c43e-422f-885a-8cb7cba1be58",
   "metadata": {},
   "source": [
    "# numpy.where\n",
    "The simplest way to implement a threshold function is by using the numpy.where function. This function applies a condition and assigns values based on whether the condition is true or false.\n",
    "$$ \n",
    "f(x) =\n",
    "\\begin{cases} \n",
    "1, & \\text{if } x \\geq \\text{threshold} \\\\\n",
    "0, & \\text{if } x < \\text{threshold}\n",
    "\\end{cases}\n",
    "$$"
   ]
  },
  {
   "cell_type": "code",
   "execution_count": 1,
   "id": "d05cb9e5-7c10-4c22-b96b-e1846b575436",
   "metadata": {},
   "outputs": [
    {
     "name": "stdout",
     "output_type": "stream",
     "text": [
      "[0 0 1 1 1]\n"
     ]
    }
   ],
   "source": [
    "import numpy as np\n",
    "\n",
    "def threshold_function(x, threshold=0):\n",
    "    return np.where(x >= threshold, 1, 0)\n",
    "\n",
    "# Example usage:\n",
    "x = np.array([-2, -1, 0, 1, 2])\n",
    "thresholded = threshold_function(x, threshold=0)\n",
    "print(thresholded)  # Output: [0 0 1 1 1]"
   ]
  }
 ],
 "metadata": {
  "kernelspec": {
   "display_name": "Python 3 (ipykernel)",
   "language": "python",
   "name": "python3"
  },
  "language_info": {
   "codemirror_mode": {
    "name": "ipython",
    "version": 3
   },
   "file_extension": ".py",
   "mimetype": "text/x-python",
   "name": "python",
   "nbconvert_exporter": "python",
   "pygments_lexer": "ipython3",
   "version": "3.12.4"
  }
 },
 "nbformat": 4,
 "nbformat_minor": 5
}
