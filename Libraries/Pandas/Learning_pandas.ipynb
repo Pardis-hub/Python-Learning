{
 "cells": [
  {
   "cell_type": "markdown",
   "id": "bea6e560-e94b-4c3b-a170-5717630b95aa",
   "metadata": {},
   "source": [
    "# 1. Pandas Basics"
   ]
  },
  {
   "cell_type": "markdown",
   "id": "9f353681-8640-4ff5-ab98-011990dfc812",
   "metadata": {},
   "source": [
    "## 1.1 Data Structures"
   ]
  },
  {
   "cell_type": "markdown",
   "id": "6f44d518-d178-4546-8632-872c09bc79e8",
   "metadata": {},
   "source": [
    "### a. Series\n",
    "A Series is a one-dimensional labeled array capable of holding data of any type.\n",
    "\n",
    "**Ways to create a Series**:"
   ]
  },
  {
   "cell_type": "markdown",
   "id": "fc740522-e368-4c87-bd2a-ed6c61581c5c",
   "metadata": {},
   "source": [
    "**1. From a list**:"
   ]
  },
  {
   "cell_type": "code",
   "execution_count": 3,
   "id": "d0219dae-e2ff-46dc-af6f-024087926a74",
   "metadata": {},
   "outputs": [
    {
     "name": "stdout",
     "output_type": "stream",
     "text": [
      "0    1\n",
      "1    2\n",
      "2    3\n",
      "3    4\n",
      "dtype: int64\n"
     ]
    }
   ],
   "source": [
    "import pandas as pd\n",
    "\n",
    "s = pd.Series([1, 2, 3, 4])\n",
    "print(s)"
   ]
  },
  {
   "cell_type": "markdown",
   "id": "c9a7050c-c254-4b9b-834a-154477cb7a30",
   "metadata": {},
   "source": [
    "**2. From a dictionary**:"
   ]
  },
  {
   "cell_type": "code",
   "execution_count": 3,
   "id": "185b6a3f-630b-4270-be90-d4689ef382a8",
   "metadata": {},
   "outputs": [
    {
     "name": "stdout",
     "output_type": "stream",
     "text": [
      "a    10\n",
      "b    20\n",
      "c    30\n",
      "dtype: int64\n"
     ]
    }
   ],
   "source": [
    "s = pd.Series({'a': 10, 'b': 20, 'c': 30})\n",
    "print(s)"
   ]
  },
  {
   "cell_type": "markdown",
   "id": "6c58da9c-e0c8-4d47-b048-89bebf77eef0",
   "metadata": {},
   "source": [
    "**3. Specifying an index**:"
   ]
  },
  {
   "cell_type": "code",
   "execution_count": 4,
   "id": "61e0fd40-0c7e-4656-b501-5a59acb52506",
   "metadata": {},
   "outputs": [
    {
     "name": "stdout",
     "output_type": "stream",
     "text": [
      "x    100\n",
      "y    200\n",
      "z    300\n",
      "dtype: int64\n"
     ]
    }
   ],
   "source": [
    "s = pd.Series([100, 200, 300], index=['x', 'y', 'z'])\n",
    "print(s)"
   ]
  },
  {
   "cell_type": "markdown",
   "id": "4b20ef39-26eb-4b87-9625-548617acc261",
   "metadata": {},
   "source": [
    "**Operations**:\n",
    "\n",
    "- Arithmetic operations on Series align by index:"
   ]
  },
  {
   "cell_type": "code",
   "execution_count": 5,
   "id": "ac5a51f7-ed4d-4d40-a9af-059c6bfc38f6",
   "metadata": {},
   "outputs": [
    {
     "name": "stdout",
     "output_type": "stream",
     "text": [
      "a    NaN\n",
      "b    6.0\n",
      "c    8.0\n",
      "d    NaN\n",
      "dtype: float64\n"
     ]
    }
   ],
   "source": [
    "s1 = pd.Series([1, 2, 3], index=['a', 'b', 'c'])\n",
    "s2 = pd.Series([4, 5, 6], index=['b', 'c', 'd'])\n",
    "print(s1 + s2)  # NaN for unmatched indices"
   ]
  },
  {
   "cell_type": "markdown",
   "id": "f20aced9-d353-4281-ba39-457d75012168",
   "metadata": {},
   "source": [
    "### b. DataFrame\n",
    "A DataFrame is a table-like structure where rows and columns are labeled.\n",
    "\n",
    "**Ways to create a DataFrame**:"
   ]
  },
  {
   "cell_type": "markdown",
   "id": "ba33aa42-420c-4a1f-bf44-d4ce9fdeb235",
   "metadata": {},
   "source": [
    "**1. From a dictionary of lists**:"
   ]
  },
  {
   "cell_type": "code",
   "execution_count": 7,
   "id": "1d80fbeb-9bd4-4152-9675-5d7d96166462",
   "metadata": {},
   "outputs": [
    {
     "name": "stdout",
     "output_type": "stream",
     "text": [
      "    Name  Age\n",
      "0  Alice   25\n",
      "1    Bob   30\n"
     ]
    }
   ],
   "source": [
    "data = {'Name': ['Alice', 'Bob'], 'Age': [25, 30]}\n",
    "df = pd.DataFrame(data)\n",
    "print(df)"
   ]
  },
  {
   "cell_type": "markdown",
   "id": "1487c768-2182-4b45-98db-689477a26b8f",
   "metadata": {},
   "source": [
    "**2. From a list of dictionaries**:"
   ]
  },
  {
   "cell_type": "code",
   "execution_count": 9,
   "id": "9f74644d-d0bb-416c-808a-b48c5b773ce0",
   "metadata": {},
   "outputs": [
    {
     "name": "stdout",
     "output_type": "stream",
     "text": [
      "    Name  Age\n",
      "0  Alice   25\n",
      "1    Bob   30\n"
     ]
    }
   ],
   "source": [
    "data = [{'Name': 'Alice', 'Age': 25}, {'Name': 'Bob', 'Age': 30}]\n",
    "df = pd.DataFrame(data)\n",
    "print(df)"
   ]
  },
  {
   "cell_type": "markdown",
   "id": "57f3eaee-c883-49af-b545-6a04355d33fc",
   "metadata": {},
   "source": [
    "**3. From a NumPy array**:"
   ]
  },
  {
   "cell_type": "code",
   "execution_count": 12,
   "id": "ae27a2cb-425d-4b3f-bfa5-7eba1bf5aa3b",
   "metadata": {},
   "outputs": [
    {
     "name": "stdout",
     "output_type": "stream",
     "text": [
      "   A  B\n",
      "0  1  2\n",
      "1  3  4\n"
     ]
    }
   ],
   "source": [
    "import numpy as np\n",
    "data = np.array([[1, 2], [3, 4]])\n",
    "df = pd.DataFrame(data, columns=['A', 'B'])\n",
    "print(df)"
   ]
  },
  {
   "cell_type": "markdown",
   "id": "b039e51b-dc74-4313-8b0e-3cd65947462f",
   "metadata": {},
   "source": [
    "**4. From a CSV or other file format (covered in Section 3)**.\n",
    "\n",
    "---"
   ]
  },
  {
   "cell_type": "markdown",
   "id": "a615d334-3dd6-42dc-9f28-25d7c50a8bb3",
   "metadata": {},
   "source": [
    "## 1.2 Reading and Writing Files"
   ]
  },
  {
   "cell_type": "markdown",
   "id": "3332cfeb-9476-47b7-b599-55b21beda147",
   "metadata": {},
   "source": [
    "### Reading Data\n",
    "**1. CSV Files**:"
   ]
  },
  {
   "cell_type": "raw",
   "id": "85583485-bb50-437c-8756-bf4846c14480",
   "metadata": {},
   "source": [
    "df = pd.read_csv('data.csv')"
   ]
  },
  {
   "cell_type": "markdown",
   "id": "e315f6fe-3454-4034-8088-8b1d8802e8ec",
   "metadata": {},
   "source": [
    "**Options**:\n",
    "- *sep=','*: Specify the delimiter.\n",
    "- *header=None*: No header row in the file.\n",
    "- *header*: Specifies which row to use as column names (default is 0, the first row).\n",
    "- *index_col*: Defines the column to use as the index.\n",
    "- *dtype*: Allows specifying data types for columns.\n",
    "- *names=['col1', 'col2']*: Specify custom column names.\n",
    "- *usecols=['col1', 'col2']*: Load specific columns.\n",
    "- *nrows=10*: Load only the first 10 rows.\n",
    "- *skiprows=5*: Skip the first 5 rows.\n",
    "- *encoding='utf-8'*: Specify file encoding.\n",
    "\n",
    "**Example:**"
   ]
  },
  {
   "cell_type": "code",
   "execution_count": null,
   "id": "a6027901-ad33-44fc-84c0-7278a8efc6bf",
   "metadata": {},
   "outputs": [],
   "source": [
    "# Reading a CSV file with a tab delimiter and using a specific column as index\n",
    "df = pd.read_csv('data.csv', sep='\\t', index_col='ID')\n",
    "print(df)"
   ]
  },
  {
   "cell_type": "markdown",
   "id": "12d722be-8e15-4286-b347-3b7b16465ae6",
   "metadata": {},
   "source": [
    "**2. Excel Files**:\n",
    "\n",
    "Pandas also allows reading Excel files. You can use the pd.read_excel() function to read data from .xls and .xlsx files."
   ]
  },
  {
   "cell_type": "raw",
   "id": "016da76f-e711-49b4-a053-3ba7ee7d0d57",
   "metadata": {},
   "source": [
    "df = pd.read_excel('data.xlsx', sheet_name='Sheet1')"
   ]
  },
  {
   "cell_type": "markdown",
   "id": "9322131b-c175-4151-a046-438b3cacae04",
   "metadata": {},
   "source": [
    "**Options**:\n",
    "- *sheet_name=None*: Read all sheets into a dictionary of DataFrames.\n",
    "- *sheet_name='Sheet1'*: Loads the sheet named 'Sheet1'. You can also use\n",
    "- *skiprows*: Skip rows (like in CSVs)."
   ]
  },
  {
   "cell_type": "markdown",
   "id": "8eeb10aa-8968-437d-be3b-093ea83e51eb",
   "metadata": {},
   "source": [
    "**3. JSON Files**:"
   ]
  },
  {
   "cell_type": "raw",
   "id": "4ddb305c-8d57-4e91-b3cc-a19d837c20f2",
   "metadata": {},
   "source": [
    "df = pd.read_json('data.json')"
   ]
  },
  {
   "cell_type": "markdown",
   "id": "52f3b443-5e0f-4712-9265-d7790002e069",
   "metadata": {},
   "source": [
    "**Options**:\n",
    "- *orient='records'*: Specify the format of the JSON file."
   ]
  },
  {
   "cell_type": "markdown",
   "id": "57803c20-f517-4dca-8f84-df4574f907a3",
   "metadata": {},
   "source": [
    "**4. SQL Databases**:\n",
    "\n",
    "If your data is stored in a SQL database, Pandas can also handle that. You’ll need to install the required SQL database connector (e.g., sqlite3, sqlalchemy, or others)."
   ]
  },
  {
   "cell_type": "raw",
   "id": "0e0cc379-796a-47eb-a6db-a1657a58bbf3",
   "metadata": {},
   "source": [
    "import sqlite3\n",
    "conn = sqlite3.connect('example.db')\n",
    "df = pd.read_sql_query(\"SELECT * FROM table_name\", conn)"
   ]
  },
  {
   "cell_type": "markdown",
   "id": "04da9ad6-2e9d-4686-88bf-ae2c78fabb84",
   "metadata": {},
   "source": [
    "- *pd.read_sql_query()*: Executes an SQL query and returns the result as a DataFrame.\n",
    "- *conn*: The database connection object."
   ]
  },
  {
   "cell_type": "markdown",
   "id": "5ff39e2b-e945-4eca-8320-ca40f823a698",
   "metadata": {},
   "source": [
    "**5. Other formats**:\n",
    "- **HDF5**: pd.read_hdf('file.h5', key='key')\n",
    "- **Parquet**: pd.read_parquet('file.parquet')"
   ]
  },
  {
   "cell_type": "markdown",
   "id": "5a4baf9f-999f-49d0-b680-1aa1bd9e5ddc",
   "metadata": {},
   "source": [
    "### Writing Data\n",
    "**1. CSV Files**:"
   ]
  },
  {
   "cell_type": "code",
   "execution_count": null,
   "id": "1e365d9d-3871-4fa9-9e00-598404cd6a99",
   "metadata": {},
   "outputs": [],
   "source": [
    "df.to_csv('output.csv', index=False)"
   ]
  },
  {
   "cell_type": "markdown",
   "id": "61121b32-a199-4339-abfe-e78f3821b377",
   "metadata": {},
   "source": [
    "**Options**:\n",
    "- *index=False*: Prevents saving the DataFrame index as a column. If you want to save the index, set it to True\n",
    "- *index=True*: Include the index.\n",
    "- *sep=';'*: Specify the delimiter."
   ]
  },
  {
   "cell_type": "code",
   "execution_count": null,
   "id": "de5870b1-c35c-4ce8-9081-12c3dc46d19a",
   "metadata": {},
   "outputs": [],
   "source": [
    "df.to_csv('output.csv', sep=';', columns=['Name', 'Age'], index=False)"
   ]
  },
  {
   "cell_type": "markdown",
   "id": "8a50610e-73a6-4d69-a5d6-9349eb52d143",
   "metadata": {},
   "source": [
    "- *sep=';'*: Specifies a semicolon (;) as the delimiter.\n",
    "- *columns=['Name', 'Age']*: Saves only the specified columns.\n",
    "- *index=False*: Avoids writing the index."
   ]
  },
  {
   "cell_type": "markdown",
   "id": "a23f146d-6157-4a9c-b29d-17ffc48a5f02",
   "metadata": {},
   "source": [
    "**2. Excel Files**:"
   ]
  },
  {
   "cell_type": "code",
   "execution_count": null,
   "id": "dbdfd087-b606-46e9-a658-835c7f776caa",
   "metadata": {},
   "outputs": [],
   "source": [
    "df.to_excel('output.xlsx', index=False)"
   ]
  },
  {
   "cell_type": "markdown",
   "id": "2889e27d-42f9-4eb2-9cba-f22b984e6580",
   "metadata": {},
   "source": [
    "- *index=False*: Prevents saving the index as a separate column in the Excel file."
   ]
  },
  {
   "cell_type": "code",
   "execution_count": null,
   "id": "d5e7b1bf-1422-4e64-bece-56b4bd9a570a",
   "metadata": {},
   "outputs": [],
   "source": [
    "with pd.ExcelWriter('output.xlsx') as writer:\n",
    "    df.to_excel(writer, sheet_name='Sheet1', index=False)\n",
    "    df.to_excel(writer, sheet_name='Sheet2', index=False)"
   ]
  },
  {
   "cell_type": "markdown",
   "id": "477ad8fa-8eae-4e67-a2e8-20fa3854cb40",
   "metadata": {},
   "source": [
    "- *ExcelWriter* allows you to write multiple DataFrames to different sheets in the same Excel file."
   ]
  },
  {
   "cell_type": "markdown",
   "id": "f8c1307d-9395-42ef-8be6-c81011b435ea",
   "metadata": {},
   "source": [
    "**3. JSON Files**:"
   ]
  },
  {
   "cell_type": "code",
   "execution_count": null,
   "id": "6463d0e7-83fe-4580-9e22-1f7308e0352e",
   "metadata": {},
   "outputs": [],
   "source": [
    "df.to_json('output.json', orient='records')"
   ]
  },
  {
   "cell_type": "markdown",
   "id": "51474692-840b-4ec9-94e8-bce8e6056128",
   "metadata": {},
   "source": [
    "**4. SQL Databases**:"
   ]
  },
  {
   "cell_type": "code",
   "execution_count": null,
   "id": "6e081ba5-8968-41c9-acc4-e52c71943c60",
   "metadata": {},
   "outputs": [],
   "source": [
    "df.to_sql('table_name', conn, if_exists='replace', index=False)"
   ]
  },
  {
   "cell_type": "markdown",
   "id": "83109b6e-41cc-4565-a6f9-b51f1522e8c8",
   "metadata": {},
   "source": [
    "- *if_exists='replace'*: If the table exists, it will be replaced with the new data. You can also use 'append' to add data to the existing table.\n",
    "- *index=False*: Prevents writing the index as a column."
   ]
  },
  {
   "cell_type": "markdown",
   "id": "23566d44-8e5f-4654-a92e-68afc46ca891",
   "metadata": {},
   "source": [
    "**5. Other formats**:\n",
    "\n",
    "- **HDF5**: df.to_hdf('file.h5', key='key', mode='w')\n",
    "- **Parquet**: df.to_parquet('file.parquet')"
   ]
  },
  {
   "cell_type": "markdown",
   "id": "170a32a6-3db2-4be4-b4c6-fcf2340f9d96",
   "metadata": {},
   "source": [
    "### Handling Large Files\n",
    "For large datasets, reading and writing files in chunks can help manage memory usage."
   ]
  },
  {
   "cell_type": "code",
   "execution_count": null,
   "id": "311e2b14-338c-411b-9aaa-bf795685ace7",
   "metadata": {},
   "outputs": [],
   "source": [
    "chunk_size = 1000  # Number of rows per chunk\n",
    "chunks = pd.read_csv('large_file.csv', chunksize=chunk_size)\n",
    "\n",
    "# Process each chunk\n",
    "for chunk in chunks:\n",
    "    # Perform operations on each chunk\n",
    "    print(chunk.head())"
   ]
  },
  {
   "cell_type": "markdown",
   "id": "7fa7e2eb-2371-44e4-94ee-6625f59ff73b",
   "metadata": {},
   "source": [
    "This is useful when working with datasets that are too large to fit into memory at once.\n",
    "\n",
    "---"
   ]
  },
  {
   "cell_type": "markdown",
   "id": "69da8658-d0cd-4901-8d30-7b628be54c44",
   "metadata": {},
   "source": [
    "## 1.3 Exploring Data"
   ]
  },
  {
   "cell_type": "markdown",
   "id": "ec584b5e-9a7e-4322-8be7-62ad4ab1439b",
   "metadata": {},
   "source": [
    "### Key Concepts in Inspecting Data\n",
    "**1. Understanding the Dataset**\n",
    "\n",
    "- A dataset is a collection of data organized in rows and columns (like a table).\n",
    "- **Rows**: Represent individual data points or samples (e.g., one row = one person).\n",
    "- **Columns**: Represent features or variables (e.g., age, income, height).\n",
    "\n",
    "**2. Common Formats of Datasets**\n",
    "\n",
    "- **CSV (Comma-Separated Values)**: Text files where each row is a data record, and columns are separated by commas.\n",
    "- **Excel Files**: .xls or .xlsx files often used for tabular data.\n",
    "- **Databases**: Data stored in SQL databases.\n",
    "- **JSON/XML**: For hierarchical or nested data.\n",
    "\n",
    "**3. Loading Data into Python** Libraries like pandas help you load and manipulate datasets easily.\n",
    "\n",
    "**4. Inspecting the Structure of the Dataset** Use these commands in pandas to get an overview of the data:df.head(), df.info(), df.describe().\n",
    "\n",
    "**5. Checking for Missing Values** Missing values can impact your model's performance.\n",
    "\n",
    "- df.isnull().sum(): Count missing values per column.\n",
    "- Handle them using:\n",
    ">- Dropping rows/columns (df.dropna()).\n",
    ">- Imputation (filling missing values with the mean/median/mode).\n",
    "\n",
    "**6. Checking for Duplicates** Duplicates can skew your results:\n",
    "\n",
    "- df.duplicated(): Find duplicates.\n",
    "- df.drop_duplicates(): Remove duplicate rows.\n",
    "\n",
    "**7. Exploring Individual Columns**\n",
    "\n",
    "- Check unique values: df['column_name'].unique()\n",
    "- Value counts: df['column_name'].value_counts()\n",
    "\n",
    "**8. Visualizing Data** Visualizations help you understand the data distribution and patterns.\n",
    "\n",
    "- Histogram for numerical data:"
   ]
  },
  {
   "cell_type": "code",
   "execution_count": null,
   "id": "d9bdfd45-afcf-4dca-9e55-983bd435c2f6",
   "metadata": {},
   "outputs": [],
   "source": [
    "df['column_name'].hist()"
   ]
  },
  {
   "cell_type": "markdown",
   "id": "f18b447c-e916-43b2-bdac-f78a33c4b0f9",
   "metadata": {},
   "source": [
    "- Boxplot for outliers:"
   ]
  },
  {
   "cell_type": "code",
   "execution_count": null,
   "id": "a434bd50-b3fd-4e2d-804f-8a5d8c0af58b",
   "metadata": {},
   "outputs": [],
   "source": [
    "import seaborn as sns\n",
    "sns.boxplot(data=df['column_name'])"
   ]
  },
  {
   "cell_type": "markdown",
   "id": "7b1996d8-c089-43c1-9ce1-c5fc1f63048e",
   "metadata": {},
   "source": [
    "**9. Understanding Data Distributions**\n",
    "\n",
    "- **Mean, Median, Mode**: Central tendencies of data.\n",
    "- **Variance/Standard Deviation**: Spread of data.\n",
    "- **Outliers**: Extreme values that may need handling.\n",
    "\n",
    "**10. Exploring Relationships Between Variables**\n",
    "- Correlations: Use .corr() to find relationships between numerical columns.\n",
    "- Scatter plots: Visualize relationships between two variables."
   ]
  },
  {
   "cell_type": "code",
   "execution_count": null,
   "id": "1a7c05c3-e602-401e-9564-9cf9f12a3f6d",
   "metadata": {},
   "outputs": [],
   "source": [
    "import matplotlib.pyplot as plt\n",
    "plt.scatter(df['feature1'], df['feature2'])\n",
    "plt.show()"
   ]
  },
  {
   "cell_type": "markdown",
   "id": "859b8ca7-919d-4c5f-8c79-af33dfeef7c6",
   "metadata": {},
   "source": [
    "### Basic Exploration\n",
    "- **Top/Bottom Rows**:"
   ]
  },
  {
   "cell_type": "code",
   "execution_count": 22,
   "id": "65fd5c7d-8b60-45e4-9479-fea64e7becb5",
   "metadata": {},
   "outputs": [
    {
     "name": "stdout",
     "output_type": "stream",
     "text": [
      "      Name  Age  Salary\n",
      "0    Alice   25   40000\n",
      "1      Bob   30   50000\n",
      "2  Charlie   35   60000\n",
      "3    David   40   55000\n",
      "4    Elina   25   45000\n",
      "      Name  Age  Salary\n",
      "2  Charlie   35   60000\n",
      "3    David   40   55000\n",
      "4    Elina   25   45000\n",
      "5     Fred   36   30000\n",
      "6     Greg   28   35000\n"
     ]
    }
   ],
   "source": [
    "import pandas as pd\n",
    "\n",
    "data = {'Name': ['Alice', 'Bob', 'Charlie', 'David', 'Elina', 'Fred', 'Greg'], 'Age': [25, 30, 35, 40, 25, 36, 28], 'Salary': [40000, 50000, 60000, 55000, 45000, 30000, 35000]}\n",
    "df = pd.DataFrame(data)\n",
    "\n",
    "print(df.head(5))  # First 5 rows\n",
    "print(df.tail(5))  # Last 5 rows"
   ]
  },
  {
   "cell_type": "markdown",
   "id": "449e0df5-c6b1-4ba2-ac94-4b8d618c8411",
   "metadata": {},
   "source": [
    "- **Column Names and Shape**:"
   ]
  },
  {
   "cell_type": "code",
   "execution_count": 36,
   "id": "212db6e3-3f97-4b8a-884c-dab0a8fdc580",
   "metadata": {},
   "outputs": [
    {
     "name": "stdout",
     "output_type": "stream",
     "text": [
      "Index(['Name', 'Age', 'Salary'], dtype='object')\n",
      "(7, 3)\n"
     ]
    }
   ],
   "source": [
    "print(df.columns)  # List of column names\n",
    "print(df.shape)    # (rows, columns)"
   ]
  },
  {
   "cell_type": "markdown",
   "id": "f066f952-9d94-4a87-82f6-2d85b907cc27",
   "metadata": {},
   "source": [
    "- **Data Types**:"
   ]
  },
  {
   "cell_type": "code",
   "execution_count": 37,
   "id": "f96d0b76-531d-4138-8f58-7bf11a13156e",
   "metadata": {},
   "outputs": [
    {
     "name": "stdout",
     "output_type": "stream",
     "text": [
      "Name      object\n",
      "Age        int64\n",
      "Salary     int64\n",
      "dtype: object\n"
     ]
    }
   ],
   "source": [
    "print(df.dtypes)  # Data type of each column"
   ]
  },
  {
   "cell_type": "markdown",
   "id": "9c37e533-59c1-44fa-86c8-15024491d5d6",
   "metadata": {},
   "source": [
    "### Summarizing Data\n",
    "- **Info**:\n",
    " *df.info()*: Get information about columns, data types, and non-null values."
   ]
  },
  {
   "cell_type": "code",
   "execution_count": 38,
   "id": "ae9e798c-53c5-4d30-8476-c1591a719d3b",
   "metadata": {},
   "outputs": [
    {
     "name": "stdout",
     "output_type": "stream",
     "text": [
      "<class 'pandas.core.frame.DataFrame'>\n",
      "RangeIndex: 7 entries, 0 to 6\n",
      "Data columns (total 3 columns):\n",
      " #   Column  Non-Null Count  Dtype \n",
      "---  ------  --------------  ----- \n",
      " 0   Name    7 non-null      object\n",
      " 1   Age     7 non-null      int64 \n",
      " 2   Salary  7 non-null      int64 \n",
      "dtypes: int64(2), object(1)\n",
      "memory usage: 300.0+ bytes\n",
      "None\n"
     ]
    }
   ],
   "source": [
    "print(df.info())  # Summary of DataFrame"
   ]
  },
  {
   "cell_type": "markdown",
   "id": "69877ca2-0d96-4d57-ac52-45bbb6b0c5b0",
   "metadata": {},
   "source": [
    "- **Statistical Summary**:\n",
    " *df.describe()*: Summarize numerical columns (e.g., mean, median, standard deviation)."
   ]
  },
  {
   "cell_type": "code",
   "execution_count": 39,
   "id": "9da884db-a5fa-458f-829f-f639063c395a",
   "metadata": {},
   "outputs": [
    {
     "name": "stdout",
     "output_type": "stream",
     "text": [
      "             Age        Salary\n",
      "count   7.000000      7.000000\n",
      "mean   31.285714  45000.000000\n",
      "std     5.822780  10801.234497\n",
      "min    25.000000  30000.000000\n",
      "25%    26.500000  37500.000000\n",
      "50%    30.000000  45000.000000\n",
      "75%    35.500000  52500.000000\n",
      "max    40.000000  60000.000000\n"
     ]
    }
   ],
   "source": [
    "print(df.describe())  # Summary of numeric columns"
   ]
  },
  {
   "cell_type": "markdown",
   "id": "5898edea-a9fd-4b0b-a51e-3c44a9ab5254",
   "metadata": {},
   "source": [
    "### Checking for Missing Data"
   ]
  },
  {
   "cell_type": "code",
   "execution_count": 40,
   "id": "ab0e0634-7a1a-49d9-9613-9ca76b3f3c24",
   "metadata": {},
   "outputs": [
    {
     "name": "stdout",
     "output_type": "stream",
     "text": [
      "Name      0\n",
      "Age       0\n",
      "Salary    0\n",
      "dtype: int64\n"
     ]
    }
   ],
   "source": [
    "print(df.isnull().sum())  # Count missing values per column"
   ]
  },
  {
   "cell_type": "markdown",
   "id": "5b157a26-834c-4295-a95f-25f68a082ca5",
   "metadata": {},
   "source": [
    "---"
   ]
  },
  {
   "cell_type": "markdown",
   "id": "774c4c55-1b08-4e79-a326-86296fb6dcb3",
   "metadata": {},
   "source": [
    "# 2. Data Manipulation "
   ]
  },
  {
   "cell_type": "markdown",
   "id": "b863131b-1cc9-41cc-9520-c3c79d674f8e",
   "metadata": {},
   "source": [
    "## 1. Selecting Data\n",
    "### a. Selecting Columns\n",
    "**1. Select a single column**:"
   ]
  },
  {
   "cell_type": "code",
   "execution_count": 41,
   "id": "19cabb4e-d27b-4a51-a8eb-edf5f24931d6",
   "metadata": {},
   "outputs": [
    {
     "data": {
      "text/plain": [
       "0      Alice\n",
       "1        Bob\n",
       "2    Charlie\n",
       "3      David\n",
       "4      Elina\n",
       "5       Fred\n",
       "6       Greg\n",
       "Name: Name, dtype: object"
      ]
     },
     "execution_count": 41,
     "metadata": {},
     "output_type": "execute_result"
    }
   ],
   "source": [
    "df['Name']"
   ]
  },
  {
   "cell_type": "markdown",
   "id": "9c3ce81e-2aab-4781-8975-b55599a1edb0",
   "metadata": {},
   "source": [
    "**2. Select multiple columns**:"
   ]
  },
  {
   "cell_type": "code",
   "execution_count": 42,
   "id": "c037355e-18f7-408e-b8e1-9bf0de04c691",
   "metadata": {},
   "outputs": [
    {
     "data": {
      "text/html": [
       "<div>\n",
       "<style scoped>\n",
       "    .dataframe tbody tr th:only-of-type {\n",
       "        vertical-align: middle;\n",
       "    }\n",
       "\n",
       "    .dataframe tbody tr th {\n",
       "        vertical-align: top;\n",
       "    }\n",
       "\n",
       "    .dataframe thead th {\n",
       "        text-align: right;\n",
       "    }\n",
       "</style>\n",
       "<table border=\"1\" class=\"dataframe\">\n",
       "  <thead>\n",
       "    <tr style=\"text-align: right;\">\n",
       "      <th></th>\n",
       "      <th>Age</th>\n",
       "      <th>Salary</th>\n",
       "    </tr>\n",
       "  </thead>\n",
       "  <tbody>\n",
       "    <tr>\n",
       "      <th>0</th>\n",
       "      <td>25</td>\n",
       "      <td>40000</td>\n",
       "    </tr>\n",
       "    <tr>\n",
       "      <th>1</th>\n",
       "      <td>30</td>\n",
       "      <td>50000</td>\n",
       "    </tr>\n",
       "    <tr>\n",
       "      <th>2</th>\n",
       "      <td>35</td>\n",
       "      <td>60000</td>\n",
       "    </tr>\n",
       "    <tr>\n",
       "      <th>3</th>\n",
       "      <td>40</td>\n",
       "      <td>55000</td>\n",
       "    </tr>\n",
       "    <tr>\n",
       "      <th>4</th>\n",
       "      <td>25</td>\n",
       "      <td>45000</td>\n",
       "    </tr>\n",
       "    <tr>\n",
       "      <th>5</th>\n",
       "      <td>36</td>\n",
       "      <td>30000</td>\n",
       "    </tr>\n",
       "    <tr>\n",
       "      <th>6</th>\n",
       "      <td>28</td>\n",
       "      <td>35000</td>\n",
       "    </tr>\n",
       "  </tbody>\n",
       "</table>\n",
       "</div>"
      ],
      "text/plain": [
       "   Age  Salary\n",
       "0   25   40000\n",
       "1   30   50000\n",
       "2   35   60000\n",
       "3   40   55000\n",
       "4   25   45000\n",
       "5   36   30000\n",
       "6   28   35000"
      ]
     },
     "execution_count": 42,
     "metadata": {},
     "output_type": "execute_result"
    }
   ],
   "source": [
    "df[['Age', 'Salary']]"
   ]
  },
  {
   "cell_type": "markdown",
   "id": "eacba311-c992-419e-b4d3-7765e36f90dc",
   "metadata": {},
   "source": [
    "### b. Selecting Rows\n",
    "**1. By position (iloc)**:"
   ]
  },
  {
   "cell_type": "code",
   "execution_count": 54,
   "id": "5641bb0b-2069-47b1-99fa-41d8338a172e",
   "metadata": {},
   "outputs": [
    {
     "data": {
      "text/plain": [
       "Name      Alice\n",
       "Age          25\n",
       "Salary    40000\n",
       "Name: 0, dtype: object"
      ]
     },
     "execution_count": 54,
     "metadata": {},
     "output_type": "execute_result"
    }
   ],
   "source": [
    "df.iloc[0]  # First row"
   ]
  },
  {
   "cell_type": "code",
   "execution_count": 53,
   "id": "fbc14637-7e3d-4c24-bd12-80d94835fd7c",
   "metadata": {},
   "outputs": [
    {
     "data": {
      "text/html": [
       "<div>\n",
       "<style scoped>\n",
       "    .dataframe tbody tr th:only-of-type {\n",
       "        vertical-align: middle;\n",
       "    }\n",
       "\n",
       "    .dataframe tbody tr th {\n",
       "        vertical-align: top;\n",
       "    }\n",
       "\n",
       "    .dataframe thead th {\n",
       "        text-align: right;\n",
       "    }\n",
       "</style>\n",
       "<table border=\"1\" class=\"dataframe\">\n",
       "  <thead>\n",
       "    <tr style=\"text-align: right;\">\n",
       "      <th></th>\n",
       "      <th>Name</th>\n",
       "      <th>Age</th>\n",
       "      <th>Salary</th>\n",
       "    </tr>\n",
       "  </thead>\n",
       "  <tbody>\n",
       "    <tr>\n",
       "      <th>1</th>\n",
       "      <td>Bob</td>\n",
       "      <td>30</td>\n",
       "      <td>50000</td>\n",
       "    </tr>\n",
       "    <tr>\n",
       "      <th>2</th>\n",
       "      <td>Charlie</td>\n",
       "      <td>35</td>\n",
       "      <td>60000</td>\n",
       "    </tr>\n",
       "    <tr>\n",
       "      <th>3</th>\n",
       "      <td>David</td>\n",
       "      <td>40</td>\n",
       "      <td>55000</td>\n",
       "    </tr>\n",
       "  </tbody>\n",
       "</table>\n",
       "</div>"
      ],
      "text/plain": [
       "      Name  Age  Salary\n",
       "1      Bob   30   50000\n",
       "2  Charlie   35   60000\n",
       "3    David   40   55000"
      ]
     },
     "execution_count": 53,
     "metadata": {},
     "output_type": "execute_result"
    }
   ],
   "source": [
    "df.iloc[1:4]  # Rows 1 to 3"
   ]
  },
  {
   "cell_type": "markdown",
   "id": "daf8df48-642d-4e38-a126-29d350d17a44",
   "metadata": {},
   "source": [
    "**2. By label (loc)**:"
   ]
  },
  {
   "cell_type": "code",
   "execution_count": 49,
   "id": "275c192f-0144-40ba-9aca-3b320342da48",
   "metadata": {},
   "outputs": [
    {
     "data": {
      "text/plain": [
       "Name      Alice\n",
       "Age          25\n",
       "Salary    40000\n",
       "Name: 0, dtype: object"
      ]
     },
     "execution_count": 49,
     "metadata": {},
     "output_type": "execute_result"
    }
   ],
   "source": [
    "df.loc[0]  # First row with label 0"
   ]
  },
  {
   "cell_type": "code",
   "execution_count": 50,
   "id": "90294b11-5846-4f3d-a270-9935e1c6a098",
   "metadata": {},
   "outputs": [
    {
     "data": {
      "text/html": [
       "<div>\n",
       "<style scoped>\n",
       "    .dataframe tbody tr th:only-of-type {\n",
       "        vertical-align: middle;\n",
       "    }\n",
       "\n",
       "    .dataframe tbody tr th {\n",
       "        vertical-align: top;\n",
       "    }\n",
       "\n",
       "    .dataframe thead th {\n",
       "        text-align: right;\n",
       "    }\n",
       "</style>\n",
       "<table border=\"1\" class=\"dataframe\">\n",
       "  <thead>\n",
       "    <tr style=\"text-align: right;\">\n",
       "      <th></th>\n",
       "      <th>Name</th>\n",
       "      <th>Salary</th>\n",
       "    </tr>\n",
       "  </thead>\n",
       "  <tbody>\n",
       "    <tr>\n",
       "      <th>0</th>\n",
       "      <td>Alice</td>\n",
       "      <td>40000</td>\n",
       "    </tr>\n",
       "    <tr>\n",
       "      <th>1</th>\n",
       "      <td>Bob</td>\n",
       "      <td>50000</td>\n",
       "    </tr>\n",
       "    <tr>\n",
       "      <th>2</th>\n",
       "      <td>Charlie</td>\n",
       "      <td>60000</td>\n",
       "    </tr>\n",
       "    <tr>\n",
       "      <th>3</th>\n",
       "      <td>David</td>\n",
       "      <td>55000</td>\n",
       "    </tr>\n",
       "  </tbody>\n",
       "</table>\n",
       "</div>"
      ],
      "text/plain": [
       "      Name  Salary\n",
       "0    Alice   40000\n",
       "1      Bob   50000\n",
       "2  Charlie   60000\n",
       "3    David   55000"
      ]
     },
     "execution_count": 50,
     "metadata": {},
     "output_type": "execute_result"
    }
   ],
   "source": [
    "df.loc[0:3, ['Name', 'Salary']]  # Rows 0 to 3 with selected columns"
   ]
  },
  {
   "cell_type": "markdown",
   "id": "cffeff05-be8e-4a2a-9995-1eb9018523ed",
   "metadata": {},
   "source": [
    "### c. Mixed Selection\n",
    "Use both row and column indices:"
   ]
  },
  {
   "cell_type": "code",
   "execution_count": 52,
   "id": "58ce26f1-856e-45a6-94b0-7cd578170891",
   "metadata": {},
   "outputs": [
    {
     "data": {
      "text/plain": [
       "np.int64(25)"
      ]
     },
     "execution_count": 52,
     "metadata": {},
     "output_type": "execute_result"
    }
   ],
   "source": [
    "df.iloc[0, 1]  # Row 0, Column 1"
   ]
  },
  {
   "cell_type": "code",
   "execution_count": 51,
   "id": "c6ac4940-7088-4fe1-9086-4543cf8a14c5",
   "metadata": {},
   "outputs": [
    {
     "data": {
      "text/plain": [
       "np.int64(40000)"
      ]
     },
     "execution_count": 51,
     "metadata": {},
     "output_type": "execute_result"
    }
   ],
   "source": [
    "df.loc[0, 'Salary']  # Row 0, Column \"column_name\""
   ]
  },
  {
   "cell_type": "markdown",
   "id": "91dc3190-95ec-4964-8717-def32562a9e5",
   "metadata": {},
   "source": [
    "---"
   ]
  },
  {
   "cell_type": "markdown",
   "id": "9fa1e80f-189a-45ff-ac12-db71cd617427",
   "metadata": {},
   "source": [
    "## 2.2 Filtering Data"
   ]
  },
  {
   "cell_type": "markdown",
   "id": "3d659752-94a9-4c6b-8a47-2221b142cbf1",
   "metadata": {},
   "source": [
    "**1. Filter rows based on a condition**:"
   ]
  },
  {
   "cell_type": "code",
   "execution_count": 55,
   "id": "b2519c84-0e10-4ba8-83af-e26fd417729b",
   "metadata": {},
   "outputs": [
    {
     "data": {
      "text/html": [
       "<div>\n",
       "<style scoped>\n",
       "    .dataframe tbody tr th:only-of-type {\n",
       "        vertical-align: middle;\n",
       "    }\n",
       "\n",
       "    .dataframe tbody tr th {\n",
       "        vertical-align: top;\n",
       "    }\n",
       "\n",
       "    .dataframe thead th {\n",
       "        text-align: right;\n",
       "    }\n",
       "</style>\n",
       "<table border=\"1\" class=\"dataframe\">\n",
       "  <thead>\n",
       "    <tr style=\"text-align: right;\">\n",
       "      <th></th>\n",
       "      <th>Name</th>\n",
       "      <th>Age</th>\n",
       "      <th>Salary</th>\n",
       "    </tr>\n",
       "  </thead>\n",
       "  <tbody>\n",
       "    <tr>\n",
       "      <th>1</th>\n",
       "      <td>Bob</td>\n",
       "      <td>30</td>\n",
       "      <td>50000</td>\n",
       "    </tr>\n",
       "    <tr>\n",
       "      <th>2</th>\n",
       "      <td>Charlie</td>\n",
       "      <td>35</td>\n",
       "      <td>60000</td>\n",
       "    </tr>\n",
       "    <tr>\n",
       "      <th>3</th>\n",
       "      <td>David</td>\n",
       "      <td>40</td>\n",
       "      <td>55000</td>\n",
       "    </tr>\n",
       "    <tr>\n",
       "      <th>5</th>\n",
       "      <td>Fred</td>\n",
       "      <td>36</td>\n",
       "      <td>30000</td>\n",
       "    </tr>\n",
       "    <tr>\n",
       "      <th>6</th>\n",
       "      <td>Greg</td>\n",
       "      <td>28</td>\n",
       "      <td>35000</td>\n",
       "    </tr>\n",
       "  </tbody>\n",
       "</table>\n",
       "</div>"
      ],
      "text/plain": [
       "      Name  Age  Salary\n",
       "1      Bob   30   50000\n",
       "2  Charlie   35   60000\n",
       "3    David   40   55000\n",
       "5     Fred   36   30000\n",
       "6     Greg   28   35000"
      ]
     },
     "execution_count": 55,
     "metadata": {},
     "output_type": "execute_result"
    }
   ],
   "source": [
    "df[df['Age'] > 25]  # Rows where \"Age\" is greater than 25"
   ]
  },
  {
   "cell_type": "markdown",
   "id": "64d91baa-68e2-46d6-bf75-df525353bdcf",
   "metadata": {},
   "source": [
    "**2. Filter rows with multiple conditions**:"
   ]
  },
  {
   "cell_type": "code",
   "execution_count": 6,
   "id": "a82f8b49-89a0-4a84-a954-259fa0371990",
   "metadata": {},
   "outputs": [
    {
     "data": {
      "text/html": [
       "<div>\n",
       "<style scoped>\n",
       "    .dataframe tbody tr th:only-of-type {\n",
       "        vertical-align: middle;\n",
       "    }\n",
       "\n",
       "    .dataframe tbody tr th {\n",
       "        vertical-align: top;\n",
       "    }\n",
       "\n",
       "    .dataframe thead th {\n",
       "        text-align: right;\n",
       "    }\n",
       "</style>\n",
       "<table border=\"1\" class=\"dataframe\">\n",
       "  <thead>\n",
       "    <tr style=\"text-align: right;\">\n",
       "      <th></th>\n",
       "      <th>Name</th>\n",
       "      <th>Age</th>\n",
       "      <th>Salary</th>\n",
       "    </tr>\n",
       "  </thead>\n",
       "  <tbody>\n",
       "    <tr>\n",
       "      <th>5</th>\n",
       "      <td>Fred</td>\n",
       "      <td>36</td>\n",
       "      <td>30000</td>\n",
       "    </tr>\n",
       "    <tr>\n",
       "      <th>6</th>\n",
       "      <td>Greg</td>\n",
       "      <td>28</td>\n",
       "      <td>35000</td>\n",
       "    </tr>\n",
       "  </tbody>\n",
       "</table>\n",
       "</div>"
      ],
      "text/plain": [
       "   Name  Age  Salary\n",
       "5  Fred   36   30000\n",
       "6  Greg   28   35000"
      ]
     },
     "execution_count": 6,
     "metadata": {},
     "output_type": "execute_result"
    }
   ],
   "source": [
    "df[(df['Age'] > 25) & (df['Salary'] < 50000)]  # AND condition"
   ]
  },
  {
   "cell_type": "code",
   "execution_count": 7,
   "id": "0e845227-6c1d-4be6-b8c5-03aa494bc44b",
   "metadata": {},
   "outputs": [
    {
     "data": {
      "text/html": [
       "<div>\n",
       "<style scoped>\n",
       "    .dataframe tbody tr th:only-of-type {\n",
       "        vertical-align: middle;\n",
       "    }\n",
       "\n",
       "    .dataframe tbody tr th {\n",
       "        vertical-align: top;\n",
       "    }\n",
       "\n",
       "    .dataframe thead th {\n",
       "        text-align: right;\n",
       "    }\n",
       "</style>\n",
       "<table border=\"1\" class=\"dataframe\">\n",
       "  <thead>\n",
       "    <tr style=\"text-align: right;\">\n",
       "      <th></th>\n",
       "      <th>Name</th>\n",
       "      <th>Age</th>\n",
       "      <th>Salary</th>\n",
       "    </tr>\n",
       "  </thead>\n",
       "  <tbody>\n",
       "    <tr>\n",
       "      <th>1</th>\n",
       "      <td>Bob</td>\n",
       "      <td>30</td>\n",
       "      <td>50000</td>\n",
       "    </tr>\n",
       "    <tr>\n",
       "      <th>2</th>\n",
       "      <td>Charlie</td>\n",
       "      <td>35</td>\n",
       "      <td>60000</td>\n",
       "    </tr>\n",
       "    <tr>\n",
       "      <th>3</th>\n",
       "      <td>David</td>\n",
       "      <td>40</td>\n",
       "      <td>55000</td>\n",
       "    </tr>\n",
       "    <tr>\n",
       "      <th>5</th>\n",
       "      <td>Fred</td>\n",
       "      <td>36</td>\n",
       "      <td>30000</td>\n",
       "    </tr>\n",
       "    <tr>\n",
       "      <th>6</th>\n",
       "      <td>Greg</td>\n",
       "      <td>28</td>\n",
       "      <td>35000</td>\n",
       "    </tr>\n",
       "  </tbody>\n",
       "</table>\n",
       "</div>"
      ],
      "text/plain": [
       "      Name  Age  Salary\n",
       "1      Bob   30   50000\n",
       "2  Charlie   35   60000\n",
       "3    David   40   55000\n",
       "5     Fred   36   30000\n",
       "6     Greg   28   35000"
      ]
     },
     "execution_count": 7,
     "metadata": {},
     "output_type": "execute_result"
    }
   ],
   "source": [
    "df[(df['Age'] > 25) | (df['Salary'] < 40000)]  # OR condition"
   ]
  },
  {
   "cell_type": "markdown",
   "id": "f5b6d1ea-d063-47cd-856d-9c82d74c537b",
   "metadata": {},
   "source": [
    "**3. Filter rows using isin**:"
   ]
  },
  {
   "cell_type": "code",
   "execution_count": 58,
   "id": "48bb1c33-b654-4206-8f0b-060ff596e7e7",
   "metadata": {},
   "outputs": [
    {
     "data": {
      "text/html": [
       "<div>\n",
       "<style scoped>\n",
       "    .dataframe tbody tr th:only-of-type {\n",
       "        vertical-align: middle;\n",
       "    }\n",
       "\n",
       "    .dataframe tbody tr th {\n",
       "        vertical-align: top;\n",
       "    }\n",
       "\n",
       "    .dataframe thead th {\n",
       "        text-align: right;\n",
       "    }\n",
       "</style>\n",
       "<table border=\"1\" class=\"dataframe\">\n",
       "  <thead>\n",
       "    <tr style=\"text-align: right;\">\n",
       "      <th></th>\n",
       "      <th>Name</th>\n",
       "      <th>Age</th>\n",
       "      <th>Salary</th>\n",
       "    </tr>\n",
       "  </thead>\n",
       "  <tbody>\n",
       "    <tr>\n",
       "      <th>0</th>\n",
       "      <td>Alice</td>\n",
       "      <td>25</td>\n",
       "      <td>40000</td>\n",
       "    </tr>\n",
       "    <tr>\n",
       "      <th>1</th>\n",
       "      <td>Bob</td>\n",
       "      <td>30</td>\n",
       "      <td>50000</td>\n",
       "    </tr>\n",
       "  </tbody>\n",
       "</table>\n",
       "</div>"
      ],
      "text/plain": [
       "    Name  Age  Salary\n",
       "0  Alice   25   40000\n",
       "1    Bob   30   50000"
      ]
     },
     "execution_count": 58,
     "metadata": {},
     "output_type": "execute_result"
    }
   ],
   "source": [
    "df[df['Name'].isin(['Alice', 'Bob'])]"
   ]
  },
  {
   "cell_type": "markdown",
   "id": "f4a0984c-f451-4239-97f4-3b0c276b642a",
   "metadata": {},
   "source": [
    "**4. Advanced Selection Using query**:\n",
    "Use SQL-like syntax for filtering rows."
   ]
  },
  {
   "cell_type": "code",
   "execution_count": 8,
   "id": "61e4cb25-3d8f-44b8-8fc2-e6093d62cf86",
   "metadata": {},
   "outputs": [
    {
     "name": "stdout",
     "output_type": "stream",
     "text": [
      "      Name  Age  Salary\n",
      "1      Bob   30   50000\n",
      "2  Charlie   35   60000\n",
      "3    David   40   55000\n",
      "5     Fred   36   30000\n",
      "6     Greg   28   35000\n"
     ]
    }
   ],
   "source": [
    "# Filter rows where Age > 25\n",
    "print(df.query('Age > 25'))"
   ]
  },
  {
   "cell_type": "markdown",
   "id": "103a2514-3211-4c82-9195-eaaf6476404f",
   "metadata": {},
   "source": [
    "#### The query() method\n",
    "in Pandas provides a powerful and concise way to filter rows of a DataFrame based on conditions. It uses a **string-based syntax**, which can make filtering operations cleaner and more readable compared to traditional boolean indexing.\n",
    "\n",
    "- **1. Readability**: Conditions in query() are written in a natural, SQL-like syntax.\n",
    "- **2. Efficiency**: Faster than boolean indexing for large DataFrames due to internal optimizations.\n",
    "- **3. Dynamic Filtering**: Supports variables for dynamic condition building.\n",
    "\n",
    "**Syntax**"
   ]
  },
  {
   "cell_type": "code",
   "execution_count": null,
   "id": "b84af73b-44dc-4664-a85c-e980b11a0886",
   "metadata": {},
   "outputs": [],
   "source": [
    "DataFrame.query(expr, inplace=False, **kwargs)"
   ]
  },
  {
   "cell_type": "markdown",
   "id": "fa5cd688-bba3-45ad-9e1b-3b259c28aabc",
   "metadata": {},
   "source": [
    "- *expr*: A string containing the condition to filter the DataFrame.\n",
    "- *inplace*: If True, modifies the DataFrame in place.\n",
    "- ***kwargs*: Additional arguments, like local_dict or global_dict, for defining variables."
   ]
  },
  {
   "cell_type": "code",
   "execution_count": 9,
   "id": "0adcbcd0-8386-4233-915f-77f8aa2be1a8",
   "metadata": {},
   "outputs": [
    {
     "name": "stdout",
     "output_type": "stream",
     "text": [
      "      Name  Age  Salary\n",
      "2  Charlie   35   70000\n",
      "3    David   40   80000\n"
     ]
    }
   ],
   "source": [
    "# Sample DataFrame\n",
    "data = {'Name': ['Alice', 'Bob', 'Charlie', 'David'],\n",
    "        'Age': [25, 30, 35, 40],\n",
    "        'Salary': [50000, 60000, 70000, 80000]}\n",
    "df2 = pd.DataFrame(data)\n",
    "\n",
    "# Filter rows where Age > 30\n",
    "filtered = df2.query('Age > 30')\n",
    "print(filtered)"
   ]
  },
  {
   "cell_type": "code",
   "execution_count": 11,
   "id": "4cd82af4-5b19-4ec3-aa0f-61bac6131865",
   "metadata": {},
   "outputs": [
    {
     "name": "stdout",
     "output_type": "stream",
     "text": [
      "    Name  Age  Salary\n",
      "3  David   40   80000\n"
     ]
    }
   ],
   "source": [
    "# Rows where Age > 30 AND Salary > 65000\n",
    "filtered = df2.query('Age > 35 and Salary > 65000')\n",
    "print(filtered)"
   ]
  },
  {
   "cell_type": "code",
   "execution_count": 13,
   "id": "dc02a1ee-1f49-4809-a6f4-37e357bc2009",
   "metadata": {},
   "outputs": [
    {
     "name": "stdout",
     "output_type": "stream",
     "text": [
      "      Name  Salary\n",
      "2  Charlie   70000\n",
      "3    David   80000\n"
     ]
    }
   ],
   "source": [
    "# Select specific columns after filtering\n",
    "filtered = df2.query('Age > 30')[['Name', 'Salary']]\n",
    "print(filtered)"
   ]
  },
  {
   "cell_type": "markdown",
   "id": "394145a1-7f7c-4de5-b5ee-6914c6d79861",
   "metadata": {},
   "source": [
    "**Using Variables in query()**\n",
    "\n",
    "You can pass external variables into the query string by referencing them with an @ symbol."
   ]
  },
  {
   "cell_type": "code",
   "execution_count": 14,
   "id": "79e26d65-26c5-4405-82d8-c818f4a15adb",
   "metadata": {},
   "outputs": [
    {
     "name": "stdout",
     "output_type": "stream",
     "text": [
      "      Name  Age  Salary\n",
      "2  Charlie   35   70000\n",
      "3    David   40   80000\n"
     ]
    }
   ],
   "source": [
    "# Define a variable\n",
    "threshold_age = 30\n",
    "\n",
    "# Use the variable in query\n",
    "filtered = df2.query('Age > @threshold_age')\n",
    "print(filtered)"
   ]
  },
  {
   "cell_type": "markdown",
   "id": "5d3c3670-5af8-48c2-93d4-6c5ca9aafc9f",
   "metadata": {},
   "source": [
    "**Using String Operations in query()**\n",
    "\n",
    "For string columns, use conditions like ==, !=, or .str.contains()."
   ]
  },
  {
   "cell_type": "code",
   "execution_count": 16,
   "id": "e31ea9a7-82b4-4f6b-ab92-7db1325caf08",
   "metadata": {},
   "outputs": [
    {
     "name": "stdout",
     "output_type": "stream",
     "text": [
      "    Name  Age  Salary\n",
      "0  Alice   25   50000\n"
     ]
    }
   ],
   "source": [
    "# Filter rows where Name equals 'Alice'\n",
    "filtered = df2.query('Name == \"Alice\"')\n",
    "print(filtered)"
   ]
  },
  {
   "cell_type": "markdown",
   "id": "3bc379f5-e0ca-498c-ad9e-22d36a2cc9c3",
   "metadata": {},
   "source": [
    "**Query with Mathematical Expressions**"
   ]
  },
  {
   "cell_type": "code",
   "execution_count": 17,
   "id": "a2e0cb31-b154-4f70-ac6e-8cd5a245b274",
   "metadata": {},
   "outputs": [
    {
     "name": "stdout",
     "output_type": "stream",
     "text": [
      "      Name  Age  Salary\n",
      "0    Alice   25   50000\n",
      "1      Bob   30   60000\n",
      "2  Charlie   35   70000\n",
      "3    David   40   80000\n"
     ]
    }
   ],
   "source": [
    "# Filter where Salary is at least twice the Age times 1000\n",
    "filtered = df2.query('Salary >= 2 * Age * 1000')\n",
    "print(filtered)"
   ]
  },
  {
   "cell_type": "markdown",
   "id": "9c7ad773-fd9e-4b54-bc01-8ca032758f82",
   "metadata": {},
   "source": [
    "**Using isnull() and notnull()**"
   ]
  },
  {
   "cell_type": "code",
   "execution_count": 18,
   "id": "6740245a-8ec5-4235-9be9-b0a09af2740b",
   "metadata": {},
   "outputs": [
    {
     "name": "stdout",
     "output_type": "stream",
     "text": [
      "    Name  Age\n",
      "0  Alice   25\n",
      "1    Bob   30\n",
      "3  David   40\n"
     ]
    }
   ],
   "source": [
    "# DataFrame with missing values\n",
    "data = {'Name': ['Alice', 'Bob', None, 'David'],\n",
    "        'Age': [25, 30, 35, 40]}\n",
    "df_missing = pd.DataFrame(data)\n",
    "\n",
    "# Filter rows where Name is not null\n",
    "filtered = df_missing.query('Name.notnull()')\n",
    "print(filtered)"
   ]
  },
  {
   "cell_type": "markdown",
   "id": "f9836214-3c57-4242-b178-cfe2fb1941c1",
   "metadata": {},
   "source": [
    "---"
   ]
  },
  {
   "cell_type": "markdown",
   "id": "9ea94711-8220-4ea2-a348-31312ac464c4",
   "metadata": {},
   "source": [
    "## 2.3 Modifying Data"
   ]
  },
  {
   "cell_type": "markdown",
   "id": "5ca41b84-e4ea-4064-9d2f-b4651e0fa306",
   "metadata": {},
   "source": [
    "### a. Adding Columns\n",
    "Add a new column based on existing data:"
   ]
  },
  {
   "cell_type": "code",
   "execution_count": 3,
   "id": "38d0d357-7288-4d24-9b52-49437cd56dbb",
   "metadata": {},
   "outputs": [
    {
     "name": "stdout",
     "output_type": "stream",
     "text": [
      "      Name  Age  Salary  New_Column\n",
      "0    Alice   25   40000          50\n",
      "1      Bob   30   50000          60\n",
      "2  Charlie   35   60000          70\n",
      "3    David   40   55000          80\n",
      "4    Elina   25   45000          50\n",
      "5     Fred   36   30000          72\n",
      "6     Greg   28   35000          56\n"
     ]
    }
   ],
   "source": [
    "df['New_Column'] = df['Age'] * 2\n",
    "print(df)"
   ]
  },
  {
   "cell_type": "markdown",
   "id": "dbe53296-bbb2-479b-bf71-29241d47a631",
   "metadata": {},
   "source": [
    "### b. Modifying Existing Columns\n",
    "Apply a function:"
   ]
  },
  {
   "cell_type": "code",
   "execution_count": 4,
   "id": "2f8ac431-8911-4355-abc0-d69d3905f9d9",
   "metadata": {},
   "outputs": [
    {
     "name": "stdout",
     "output_type": "stream",
     "text": [
      "      Name  Age  Salary  New_Column\n",
      "0    Alice   30   40000          50\n",
      "1      Bob   35   50000          60\n",
      "2  Charlie   40   60000          70\n",
      "3    David   45   55000          80\n",
      "4    Elina   30   45000          50\n",
      "5     Fred   41   30000          72\n",
      "6     Greg   33   35000          56\n"
     ]
    }
   ],
   "source": [
    "df['Age'] = df['Age'].apply(lambda x: x + 5)\n",
    "print(df)"
   ]
  },
  {
   "cell_type": "markdown",
   "id": "3a4ef96b-8bcc-4084-a4fe-ba61df758fc9",
   "metadata": {},
   "source": [
    "### c. Renaming Columns"
   ]
  },
  {
   "cell_type": "code",
   "execution_count": 5,
   "id": "f0255db2-67cc-464a-b0f7-8be1dbe9ca45",
   "metadata": {},
   "outputs": [
    {
     "name": "stdout",
     "output_type": "stream",
     "text": [
      "      Name  Age  Salary  Old_Column\n",
      "0    Alice   30   40000          50\n",
      "1      Bob   35   50000          60\n",
      "2  Charlie   40   60000          70\n",
      "3    David   45   55000          80\n",
      "4    Elina   30   45000          50\n",
      "5     Fred   41   30000          72\n",
      "6     Greg   33   35000          56\n"
     ]
    }
   ],
   "source": [
    "df.rename(columns={'New_Column': 'Old_Column'}, inplace=True)\n",
    "print(df)"
   ]
  },
  {
   "cell_type": "markdown",
   "id": "ff9fbf81-188e-4ed2-8d9e-f97febca3ec5",
   "metadata": {},
   "source": [
    "### d. Modifying Column Values"
   ]
  },
  {
   "cell_type": "code",
   "execution_count": 6,
   "id": "6d2e46e9-be70-4d36-8bb1-1711ea683433",
   "metadata": {},
   "outputs": [
    {
     "name": "stdout",
     "output_type": "stream",
     "text": [
      "      Name  Age  Salary  Old_Column\n",
      "0    Alice   30   44000          50\n",
      "1      Bob   35   55000          60\n",
      "2  Charlie   40   66000          70\n",
      "3    David   45   60500          80\n",
      "4    Elina   30   49500          50\n",
      "5     Fred   41   33000          72\n",
      "6     Greg   33   38500          56\n"
     ]
    }
   ],
   "source": [
    "# Increase Salary by 10%\n",
    "df['Salary'] = df['Salary'] * 1.1\n",
    "\n",
    "# Apply a custom function to round Salary\n",
    "df['Salary'] = df['Salary'].apply(lambda x: round(x))\n",
    "print(df)"
   ]
  },
  {
   "cell_type": "markdown",
   "id": "17588620-cbe2-4322-bb30-f0632ef10e5d",
   "metadata": {},
   "source": [
    "### e. Dropping Columns or Rows\n",
    "- **Drop columns**:"
   ]
  },
  {
   "cell_type": "code",
   "execution_count": null,
   "id": "68e770f7-a6fe-475c-b87e-e780237089c0",
   "metadata": {},
   "outputs": [],
   "source": [
    "df.drop(['Column1', 'Column2'], axis=1, inplace=True)"
   ]
  },
  {
   "cell_type": "markdown",
   "id": "f10dc12d-717a-44db-a98c-b303d989d8c6",
   "metadata": {},
   "source": [
    "- **Drop rows**:"
   ]
  },
  {
   "cell_type": "raw",
   "id": "95e84a59-adce-4481-93f7-8037480270a8",
   "metadata": {},
   "source": [
    "df.drop([0, 2], axis=0, inplace=True)"
   ]
  },
  {
   "cell_type": "markdown",
   "id": "bd3753b3-a1dc-4b6a-9cac-9514cbccc14b",
   "metadata": {},
   "source": [
    "#### Understanding Dimensions\n",
    "For a 2D array:\n",
    "\n",
    "- **Axis 0**: Operates **along the rows** (column-wise operation).\n",
    "- **Axis 1**: Operates **along the columns** (row-wise operation).\n",
    "\n",
    "For a 3D array:\n",
    "\n",
    "- **Axis 0**: Operates along the depth (across matrices).\n",
    "- **Axis 1**: Operates along the rows (within each matrix).\n",
    "- **Axis 2**: Operates along the columns (within each matrix)."
   ]
  },
  {
   "cell_type": "markdown",
   "id": "ee6c5efe-983d-449e-88ed-2b274e417368",
   "metadata": {},
   "source": [
    "### f. Changing Data Types"
   ]
  },
  {
   "cell_type": "code",
   "execution_count": 8,
   "id": "8b32eea4-5c4c-405e-9102-2bf5eddbffed",
   "metadata": {},
   "outputs": [
    {
     "name": "stdout",
     "output_type": "stream",
     "text": [
      "   Name  Age\n",
      "0     1   25\n",
      "1     2   30\n",
      "2     3   35\n"
     ]
    }
   ],
   "source": [
    "data = {'Name': ['1', '2', '3'], 'Age': [25.0, 30.5, 35.1]}\n",
    "df3 = pd.DataFrame(data)\n",
    "\n",
    "# Convert 'Name' to integers and 'Age' to integers\n",
    "df3['Name'] = df3['Name'].astype(int)\n",
    "df3['Age'] = df3['Age'].astype(int)\n",
    "print(df3)"
   ]
  },
  {
   "cell_type": "markdown",
   "id": "f88de3af-9fd2-431c-a7a0-b6e05bf49ecc",
   "metadata": {},
   "source": [
    "---"
   ]
  },
  {
   "cell_type": "markdown",
   "id": "db131e41-baf4-476c-954f-68823468c138",
   "metadata": {},
   "source": [
    "## 2.4 Handling Missing Data\n",
    "### 1. Detect Missing Values:"
   ]
  },
  {
   "cell_type": "code",
   "execution_count": null,
   "id": "0d7186ed-f9f0-45cb-bdc4-818dbdd9a868",
   "metadata": {},
   "outputs": [],
   "source": [
    "df.isnull()  # Boolean mask of missing values\n",
    "df.isnull().sum()  # Count missing values per column"
   ]
  },
  {
   "cell_type": "markdown",
   "id": "333ae89f-96cd-4353-9eea-187e743c2c47",
   "metadata": {},
   "source": [
    "### 2. Remove Missing Values:"
   ]
  },
  {
   "cell_type": "code",
   "execution_count": null,
   "id": "78f5884e-3e04-4fe1-ab16-7515ba1aba12",
   "metadata": {},
   "outputs": [],
   "source": [
    "df.dropna()  # Drop rows with missing values\n",
    "df.dropna(axis=1)  # Drop columns with missing values"
   ]
  },
  {
   "cell_type": "markdown",
   "id": "13424033-2019-4b2c-bbfd-8d308dd53530",
   "metadata": {},
   "source": [
    "### 3. Fill Missing Values:"
   ]
  },
  {
   "cell_type": "code",
   "execution_count": null,
   "id": "42c298b9-1851-4fca-af5d-06116c65dd15",
   "metadata": {},
   "outputs": [],
   "source": [
    "df.fillna(0)  # Replace missing values with 0\n",
    "df.fillna(df.mean())  # Replace with column mean"
   ]
  },
  {
   "cell_type": "code",
   "execution_count": 22,
   "id": "49d142b4-4cbe-4720-ae36-cb96f90843e0",
   "metadata": {},
   "outputs": [
    {
     "name": "stdout",
     "output_type": "stream",
     "text": [
      "      Name   Age\n",
      "0    Alice  25.0\n",
      "2  Unknown  35.0\n"
     ]
    },
    {
     "name": "stderr",
     "output_type": "stream",
     "text": [
      "C:\\Users\\Pardis\\AppData\\Local\\Temp\\ipykernel_560\\1047999180.py:5: FutureWarning: A value is trying to be set on a copy of a DataFrame or Series through chained assignment using an inplace method.\n",
      "The behavior will change in pandas 3.0. This inplace method will never work because the intermediate object on which we are setting values always behaves as a copy.\n",
      "\n",
      "For example, when doing 'df[col].method(value, inplace=True)', try using 'df.method({col: value}, inplace=True)' or df[col] = df[col].method(value) instead, to perform the operation inplace on the original object.\n",
      "\n",
      "\n",
      "  df4['Name'].fillna('Unknown', inplace=True)\n"
     ]
    }
   ],
   "source": [
    "data = {'Name': ['Alice', 'Bob', None], 'Age': [25, None, 35]}\n",
    "df4 = pd.DataFrame(data)\n",
    "\n",
    "# Fill missing values with a placeholder\n",
    "df4['Name'].fillna('Unknown', inplace=True)\n",
    "\n",
    "# Drop rows with missing values\n",
    "df4.dropna(inplace=True)\n",
    "print(df4)"
   ]
  },
  {
   "cell_type": "markdown",
   "id": "b9f9825e-26ef-48a6-a4e9-43ea8bbd77fe",
   "metadata": {},
   "source": [
    "### 4. Replacing Values\n",
    "Replace specific values to correct errors or standardize."
   ]
  },
  {
   "cell_type": "code",
   "execution_count": 23,
   "id": "225a833e-eba9-4d19-8ec1-25d992c21e56",
   "metadata": {},
   "outputs": [
    {
     "name": "stdout",
     "output_type": "stream",
     "text": [
      "      Name       Department\n",
      "0    Alice  Human Resources\n",
      "1      Bob               IT\n",
      "2  Charlie  Human Resources\n"
     ]
    }
   ],
   "source": [
    "data = {'Name': ['Alice', 'Bob', 'Charlie'], 'Department': ['HR', 'IT', 'HR']}\n",
    "df5 = pd.DataFrame(data)\n",
    "\n",
    "# Replace 'HR' with 'Human Resources'\n",
    "df5['Department'] = df5['Department'].replace('HR', 'Human Resources')\n",
    "print(df5)"
   ]
  },
  {
   "cell_type": "markdown",
   "id": "61096019-560d-4c35-b29f-c104aa486326",
   "metadata": {},
   "source": [
    "### 5. Interpolate Missing Values:"
   ]
  },
  {
   "cell_type": "code",
   "execution_count": null,
   "id": "62f992b6-5212-4938-87ed-986d41f2763f",
   "metadata": {},
   "outputs": [],
   "source": [
    "df.interpolate()"
   ]
  },
  {
   "cell_type": "markdown",
   "id": "c3e19b56-6dec-4728-91e1-a7980880e8ac",
   "metadata": {},
   "source": [
    "---"
   ]
  },
  {
   "cell_type": "markdown",
   "id": "041cd2df-8daa-4228-a1b9-5d92d83bda1a",
   "metadata": {},
   "source": [
    "## 2.5 Sorting Data\n",
    "### 1. Sort by a single column:"
   ]
  },
  {
   "cell_type": "code",
   "execution_count": 72,
   "id": "4fe8d77b-57be-4b61-973e-1afad547ad12",
   "metadata": {},
   "outputs": [
    {
     "data": {
      "text/html": [
       "<div>\n",
       "<style scoped>\n",
       "    .dataframe tbody tr th:only-of-type {\n",
       "        vertical-align: middle;\n",
       "    }\n",
       "\n",
       "    .dataframe tbody tr th {\n",
       "        vertical-align: top;\n",
       "    }\n",
       "\n",
       "    .dataframe thead th {\n",
       "        text-align: right;\n",
       "    }\n",
       "</style>\n",
       "<table border=\"1\" class=\"dataframe\">\n",
       "  <thead>\n",
       "    <tr style=\"text-align: right;\">\n",
       "      <th></th>\n",
       "      <th>Name</th>\n",
       "      <th>Age</th>\n",
       "      <th>Salary</th>\n",
       "      <th>Old_Column</th>\n",
       "    </tr>\n",
       "  </thead>\n",
       "  <tbody>\n",
       "    <tr>\n",
       "      <th>0</th>\n",
       "      <td>Alice</td>\n",
       "      <td>30</td>\n",
       "      <td>40000</td>\n",
       "      <td>50</td>\n",
       "    </tr>\n",
       "    <tr>\n",
       "      <th>4</th>\n",
       "      <td>Elina</td>\n",
       "      <td>30</td>\n",
       "      <td>45000</td>\n",
       "      <td>50</td>\n",
       "    </tr>\n",
       "    <tr>\n",
       "      <th>6</th>\n",
       "      <td>Greg</td>\n",
       "      <td>33</td>\n",
       "      <td>35000</td>\n",
       "      <td>56</td>\n",
       "    </tr>\n",
       "    <tr>\n",
       "      <th>1</th>\n",
       "      <td>Bob</td>\n",
       "      <td>35</td>\n",
       "      <td>50000</td>\n",
       "      <td>60</td>\n",
       "    </tr>\n",
       "    <tr>\n",
       "      <th>2</th>\n",
       "      <td>Charlie</td>\n",
       "      <td>40</td>\n",
       "      <td>60000</td>\n",
       "      <td>70</td>\n",
       "    </tr>\n",
       "    <tr>\n",
       "      <th>5</th>\n",
       "      <td>Fred</td>\n",
       "      <td>41</td>\n",
       "      <td>30000</td>\n",
       "      <td>72</td>\n",
       "    </tr>\n",
       "    <tr>\n",
       "      <th>3</th>\n",
       "      <td>David</td>\n",
       "      <td>45</td>\n",
       "      <td>55000</td>\n",
       "      <td>80</td>\n",
       "    </tr>\n",
       "  </tbody>\n",
       "</table>\n",
       "</div>"
      ],
      "text/plain": [
       "      Name  Age  Salary  Old_Column\n",
       "0    Alice   30   40000          50\n",
       "4    Elina   30   45000          50\n",
       "6     Greg   33   35000          56\n",
       "1      Bob   35   50000          60\n",
       "2  Charlie   40   60000          70\n",
       "5     Fred   41   30000          72\n",
       "3    David   45   55000          80"
      ]
     },
     "execution_count": 72,
     "metadata": {},
     "output_type": "execute_result"
    }
   ],
   "source": [
    "df.sort_values('Age', ascending=True)"
   ]
  },
  {
   "cell_type": "markdown",
   "id": "d8df1bce-cda4-49e5-9eb5-73823cb30c56",
   "metadata": {},
   "source": [
    "### 2. Sort by multiple columns:"
   ]
  },
  {
   "cell_type": "code",
   "execution_count": 74,
   "id": "95ea8fbd-173d-4552-9586-6c3722db9d9f",
   "metadata": {},
   "outputs": [
    {
     "data": {
      "text/html": [
       "<div>\n",
       "<style scoped>\n",
       "    .dataframe tbody tr th:only-of-type {\n",
       "        vertical-align: middle;\n",
       "    }\n",
       "\n",
       "    .dataframe tbody tr th {\n",
       "        vertical-align: top;\n",
       "    }\n",
       "\n",
       "    .dataframe thead th {\n",
       "        text-align: right;\n",
       "    }\n",
       "</style>\n",
       "<table border=\"1\" class=\"dataframe\">\n",
       "  <thead>\n",
       "    <tr style=\"text-align: right;\">\n",
       "      <th></th>\n",
       "      <th>Name</th>\n",
       "      <th>Age</th>\n",
       "      <th>Salary</th>\n",
       "      <th>Old_Column</th>\n",
       "    </tr>\n",
       "  </thead>\n",
       "  <tbody>\n",
       "    <tr>\n",
       "      <th>4</th>\n",
       "      <td>Elina</td>\n",
       "      <td>30</td>\n",
       "      <td>45000</td>\n",
       "      <td>50</td>\n",
       "    </tr>\n",
       "    <tr>\n",
       "      <th>0</th>\n",
       "      <td>Alice</td>\n",
       "      <td>30</td>\n",
       "      <td>40000</td>\n",
       "      <td>50</td>\n",
       "    </tr>\n",
       "    <tr>\n",
       "      <th>6</th>\n",
       "      <td>Greg</td>\n",
       "      <td>33</td>\n",
       "      <td>35000</td>\n",
       "      <td>56</td>\n",
       "    </tr>\n",
       "    <tr>\n",
       "      <th>1</th>\n",
       "      <td>Bob</td>\n",
       "      <td>35</td>\n",
       "      <td>50000</td>\n",
       "      <td>60</td>\n",
       "    </tr>\n",
       "    <tr>\n",
       "      <th>2</th>\n",
       "      <td>Charlie</td>\n",
       "      <td>40</td>\n",
       "      <td>60000</td>\n",
       "      <td>70</td>\n",
       "    </tr>\n",
       "    <tr>\n",
       "      <th>5</th>\n",
       "      <td>Fred</td>\n",
       "      <td>41</td>\n",
       "      <td>30000</td>\n",
       "      <td>72</td>\n",
       "    </tr>\n",
       "    <tr>\n",
       "      <th>3</th>\n",
       "      <td>David</td>\n",
       "      <td>45</td>\n",
       "      <td>55000</td>\n",
       "      <td>80</td>\n",
       "    </tr>\n",
       "  </tbody>\n",
       "</table>\n",
       "</div>"
      ],
      "text/plain": [
       "      Name  Age  Salary  Old_Column\n",
       "4    Elina   30   45000          50\n",
       "0    Alice   30   40000          50\n",
       "6     Greg   33   35000          56\n",
       "1      Bob   35   50000          60\n",
       "2  Charlie   40   60000          70\n",
       "5     Fred   41   30000          72\n",
       "3    David   45   55000          80"
      ]
     },
     "execution_count": 74,
     "metadata": {},
     "output_type": "execute_result"
    }
   ],
   "source": [
    "df.sort_values(['Age', 'Salary'], ascending=[True, False])"
   ]
  },
  {
   "cell_type": "markdown",
   "id": "0de3e2bd-38c8-4a2d-9d69-17ab89e727ac",
   "metadata": {},
   "source": [
    "**Explanation**: First, the data is sorted by Age in ascending order. Then, for rows with the same Age, it is sorted by Salary in descending order (i.e., higher salaries come first).\n",
    "\n",
    "---"
   ]
  },
  {
   "cell_type": "markdown",
   "id": "ddaf19e3-0a47-41fb-b305-7f5b334072c0",
   "metadata": {},
   "source": [
    "## 2.6 Aggregating Data\n",
    "### 1. Basic Aggregations:"
   ]
  },
  {
   "cell_type": "code",
   "execution_count": 77,
   "id": "74690bf4-87eb-415b-8414-a5db39241f95",
   "metadata": {},
   "outputs": [
    {
     "data": {
      "text/plain": [
       "np.float64(36.285714285714285)"
      ]
     },
     "execution_count": 77,
     "metadata": {},
     "output_type": "execute_result"
    }
   ],
   "source": [
    "df['Age'].mean()  # Average age"
   ]
  },
  {
   "cell_type": "code",
   "execution_count": 76,
   "id": "f2982cbc-d040-4ff9-8807-24a4090d0d11",
   "metadata": {},
   "outputs": [
    {
     "data": {
      "text/plain": [
       "np.int64(315000)"
      ]
     },
     "execution_count": 76,
     "metadata": {},
     "output_type": "execute_result"
    }
   ],
   "source": [
    "df['Salary'].sum()  # Sum of salaries"
   ]
  },
  {
   "cell_type": "markdown",
   "id": "5ef16529-ed96-415b-b039-82d1403ee80a",
   "metadata": {},
   "source": [
    "### 2. Group By Operations:"
   ]
  },
  {
   "cell_type": "code",
   "execution_count": 80,
   "id": "8ce9b64d-c5df-4627-978e-1fa8ee69f775",
   "metadata": {},
   "outputs": [
    {
     "name": "stdout",
     "output_type": "stream",
     "text": [
      "          Age   Salary  Old_Column\n",
      "Name                              \n",
      "Alice    30.0  40000.0        50.0\n",
      "Bob      35.0  50000.0        60.0\n",
      "Charlie  40.0  60000.0        70.0\n",
      "David    45.0  55000.0        80.0\n",
      "Elina    30.0  45000.0        50.0\n",
      "Fred     41.0  30000.0        72.0\n",
      "Greg     33.0  35000.0        56.0\n"
     ]
    }
   ],
   "source": [
    "grouped = df.groupby('Name')\n",
    "print(grouped.mean())  # Mean for each group"
   ]
  },
  {
   "cell_type": "markdown",
   "id": "86284047-83dd-4437-bb64-478f562895b1",
   "metadata": {},
   "source": [
    "---"
   ]
  },
  {
   "cell_type": "markdown",
   "id": "a3d31b62-da91-471e-a504-adb3a5e1dd3d",
   "metadata": {},
   "source": [
    "## 2.7 Duplicates\n",
    "### 1. Detect duplicates:"
   ]
  },
  {
   "cell_type": "code",
   "execution_count": null,
   "id": "b583c3cd-7337-4d23-a043-3c2907fac27d",
   "metadata": {},
   "outputs": [],
   "source": [
    "df.duplicated()"
   ]
  },
  {
   "cell_type": "markdown",
   "id": "d4dbd983-bb32-4a2a-9d7e-47ef0640b7f2",
   "metadata": {},
   "source": [
    "### 2. Remove duplicates:"
   ]
  },
  {
   "cell_type": "code",
   "execution_count": null,
   "id": "309787d1-d2fc-476c-90d4-5453549e0a2a",
   "metadata": {},
   "outputs": [],
   "source": [
    "df.drop_duplicates(inplace=True)"
   ]
  },
  {
   "cell_type": "markdown",
   "id": "97032c77-6709-4709-ada0-ae2249faed07",
   "metadata": {},
   "source": [
    "---"
   ]
  },
  {
   "cell_type": "markdown",
   "id": "6d28370b-9a5b-43ad-a3be-92100a7234f7",
   "metadata": {},
   "source": [
    "# 3. Data Transformation and Visualization"
   ]
  },
  {
   "cell_type": "markdown",
   "id": "6725c8ac-2c68-4f1a-b0db-3bc20ad40868",
   "metadata": {},
   "source": [
    "## 3.1 Pivot Tables\n",
    "Pivot tables allow you to summarize and aggregate data in a tabular format.\n",
    "- Rearranges data into a new table format based on selected index (rows) and columns.\n",
    "- Applies an aggregation function (e.g., mean, sum, count) to numeric data."
   ]
  },
  {
   "cell_type": "markdown",
   "id": "273ad75b-e919-4904-831c-a21768260d9e",
   "metadata": {},
   "source": [
    "### Creating a Pivot Table"
   ]
  },
  {
   "cell_type": "code",
   "execution_count": 25,
   "id": "6f070928-1243-4d80-8e65-76d60541e164",
   "metadata": {},
   "outputs": [
    {
     "name": "stdout",
     "output_type": "stream",
     "text": [
      "Category     A     B\n",
      "Name                \n",
      "Alice     85.0  88.0\n",
      "Bob       90.0  75.0\n"
     ]
    }
   ],
   "source": [
    "import pandas as pd\n",
    "\n",
    "# Example DataFrame\n",
    "data = {\n",
    "    'Name': ['Alice', 'Bob', 'Alice', 'Bob'],\n",
    "    'Age': [25, 30, 40, 35],\n",
    "    'Category': ['A', 'A', 'B', 'B'],\n",
    "    'Score': [85, 90, 88, 75]\n",
    "}\n",
    "df = pd.DataFrame(data)\n",
    "\n",
    "# Create pivot table\n",
    "pivot = df.pivot_table(values='Score', index='Name', columns='Category', aggfunc='mean')\n",
    "print(pivot)"
   ]
  },
  {
   "cell_type": "markdown",
   "id": "759f21a6-7a2c-4630-9852-f1493198bd21",
   "metadata": {},
   "source": [
    "**Options**:\n",
    "\n",
    "- *values*: Column to aggregate.\n",
    "- *index*: Rows to group by.\n",
    "- *columns*: Columns to group by.\n",
    "- *aggfunc*: Aggregation function (default is 'mean'). Examples include:\n",
    ">- mean: Average value.\n",
    ">- sum: Total sum.\n",
    ">- count: Number of entries.\n",
    ">- max: Maximum value.\n",
    ">- min: Minimum value.\n",
    "\n",
    "- *fill_value=0*: If there’s no data for a specific combination of index and columns, pandas fills it with NaN. You can replace missing values with 0."
   ]
  },
  {
   "cell_type": "code",
   "execution_count": 35,
   "id": "1562755f-3df8-4a78-9b2d-eda4c629f568",
   "metadata": {},
   "outputs": [
    {
     "name": "stdout",
     "output_type": "stream",
     "text": [
      "          mean       sum    \n",
      "Category     A     B   A   B\n",
      "Name                        \n",
      "Alice     85.0  88.0  85  88\n",
      "Bob       90.0  75.0  90  75\n"
     ]
    }
   ],
   "source": [
    "pivot = df.pivot_table(values='Score', index='Name', columns='Category', aggfunc=['mean', 'sum'])\n",
    "print(pivot)"
   ]
  },
  {
   "cell_type": "markdown",
   "id": "d4deb478-b38d-47e0-86f1-4fe37216af7e",
   "metadata": {},
   "source": [
    "---"
   ]
  },
  {
   "cell_type": "markdown",
   "id": "c85df8ff-ca1b-4c5e-ac8c-954e33cd6fe7",
   "metadata": {},
   "source": [
    "## 3.2 Reshaping Data\n",
    "### a. Melting Data\n",
    "Convert wide-form data into long-form data.\n",
    "- Wide-format data has multiple columns that represent different values.\n",
    "- Long-format data has fewer columns, with additional columns for identifiers and variable values.\n",
    "- Long format is easier to use with many analytical tools and libraries."
   ]
  },
  {
   "cell_type": "code",
   "execution_count": 41,
   "id": "7411f58a-683f-422b-b7b7-e273e62c21fc",
   "metadata": {},
   "outputs": [
    {
     "name": "stdout",
     "output_type": "stream",
     "text": [
      "Unmelted: \n",
      "     Name  Math  Science\n",
      "0  Alice    85       88\n",
      "1    Bob    90       75 \n",
      "\n",
      "Melted: \n",
      "     Name  Subject  Score\n",
      "0  Alice     Math     85\n",
      "1    Bob     Math     90\n",
      "2  Alice  Science     88\n",
      "3    Bob  Science     75\n"
     ]
    }
   ],
   "source": [
    "data = {\n",
    "    'Name': ['Alice', 'Bob'],\n",
    "    'Math': [85, 90],\n",
    "    'Science': [88, 75]\n",
    "}\n",
    "df = pd.DataFrame(data)\n",
    "print('Unmelted: \\n', df, '\\n')\n",
    "\n",
    "melted = df.melt(id_vars='Name', var_name='Subject', value_name='Score')\n",
    "print('Melted: \\n',melted)"
   ]
  },
  {
   "cell_type": "markdown",
   "id": "08429d95-dad6-4748-b2fd-c8e75732f4f6",
   "metadata": {},
   "source": [
    "**Key Parameters**\n",
    "- *id_vars*: Columns to keep as identifiers (e.g., 'Name').\n",
    "- *var_name*: The name of the column that will hold the old column names (e.g., 'Subject').\n",
    "- *value_name*: The name of the column that will hold the values (e.g., 'Score')."
   ]
  },
  {
   "cell_type": "code",
   "execution_count": 42,
   "id": "0c13bb26-ed15-44b9-97b1-46b1b6c727f1",
   "metadata": {},
   "outputs": [
    {
     "name": "stdout",
     "output_type": "stream",
     "text": [
      "    Name  Year  Subject  Score\n",
      "0  Alice  2021     Math     85\n",
      "1    Bob  2021     Math     90\n",
      "2  Alice  2021  Science     88\n",
      "3    Bob  2021  Science     75\n"
     ]
    }
   ],
   "source": [
    "data = {\n",
    "    'Name': ['Alice', 'Bob'],\n",
    "    'Year': [2021, 2021],\n",
    "    'Math': [85, 90],\n",
    "    'Science': [88, 75]\n",
    "}\n",
    "df = pd.DataFrame(data)\n",
    "\n",
    "melted = df.melt(id_vars=['Name', 'Year'], var_name='Subject', value_name='Score')\n",
    "print(melted)"
   ]
  },
  {
   "cell_type": "markdown",
   "id": "7f5af599-90b6-40f6-8e26-af950274b33c",
   "metadata": {},
   "source": [
    "### When to Use Pivot vs Melt?\n",
    "**1. Pivot**: Transform long-format data into a summary or wide-format table.\n",
    "- Example: Aggregate sales by region and year.\n",
    "\n",
    "**2. Melt**: Transform wide-format data into long-format for better analysis or visualization.\n",
    "- Example: Combine multiple columns (e.g., Math, Science) into one.\n",
    "---"
   ]
  },
  {
   "cell_type": "markdown",
   "id": "e10e25b3-2837-486e-80a7-563dd2720cab",
   "metadata": {},
   "source": [
    "## 3.3 Combining Data\n",
    "### a. Concatenation\n",
    "Combine multiple DataFrames along rows or columns."
   ]
  },
  {
   "cell_type": "code",
   "execution_count": 27,
   "id": "9443b16f-e044-49fe-88de-29f76f3e8c97",
   "metadata": {},
   "outputs": [
    {
     "name": "stdout",
     "output_type": "stream",
     "text": [
      "   A  B\n",
      "0  1  3\n",
      "1  2  4\n",
      "0  5  7\n",
      "1  6  8\n"
     ]
    }
   ],
   "source": [
    "df1 = pd.DataFrame({'A': [1, 2], 'B': [3, 4]})\n",
    "df2 = pd.DataFrame({'A': [5, 6], 'B': [7, 8]})\n",
    "\n",
    "# Concatenate along rows\n",
    "result = pd.concat([df1, df2], axis=0)\n",
    "print(result)"
   ]
  },
  {
   "cell_type": "markdown",
   "id": "450a6b70-82e4-483e-ada2-8a9a28384bb0",
   "metadata": {},
   "source": [
    "### b. Merging\n",
    "Merge DataFrames based on common columns or indices."
   ]
  },
  {
   "cell_type": "code",
   "execution_count": 28,
   "id": "2a6163d5-11d5-41f5-89c3-ef9758e23d92",
   "metadata": {},
   "outputs": [
    {
     "name": "stdout",
     "output_type": "stream",
     "text": [
      "   ID   Name  Score\n",
      "0   1  Alice     85\n",
      "1   2    Bob     90\n"
     ]
    }
   ],
   "source": [
    "left = pd.DataFrame({'ID': [1, 2], 'Name': ['Alice', 'Bob']})\n",
    "right = pd.DataFrame({'ID': [1, 2], 'Score': [85, 90]})\n",
    "\n",
    "merged = pd.merge(left, right, on='ID')\n",
    "print(merged)"
   ]
  },
  {
   "cell_type": "markdown",
   "id": "3ac89636-dc63-4a27-83a5-0a66d114cc3e",
   "metadata": {},
   "source": [
    "### c. Join\n",
    "Join DataFrames based on their indices."
   ]
  },
  {
   "cell_type": "code",
   "execution_count": 29,
   "id": "786a7a03-4380-493c-a74e-f84a5563ebf5",
   "metadata": {},
   "outputs": [
    {
     "name": "stdout",
     "output_type": "stream",
     "text": [
      "   A  B\n",
      "a  1  3\n",
      "b  2  4\n"
     ]
    }
   ],
   "source": [
    "left = pd.DataFrame({'A': [1, 2]}, index=['a', 'b'])\n",
    "right = pd.DataFrame({'B': [3, 4]}, index=['a', 'b'])\n",
    "\n",
    "joined = left.join(right)\n",
    "print(joined)"
   ]
  },
  {
   "cell_type": "markdown",
   "id": "2071dd26-0175-40d0-889a-4c68428d6919",
   "metadata": {},
   "source": [
    "## 3.4 Basic Visualization with Pandas\n",
    "Pandas integrates with Matplotlib for quick visualizations.\n",
    "### a. Line Plot"
   ]
  },
  {
   "cell_type": "code",
   "execution_count": 30,
   "id": "87bf8619-e63c-4a79-a948-d5479fa1810f",
   "metadata": {},
   "outputs": [
    {
     "data": {
      "text/plain": [
       "<Axes: title={'center': 'Scores Over Time'}>"
      ]
     },
     "execution_count": 30,
     "metadata": {},
     "output_type": "execute_result"
    },
    {
     "data": {
      "image/png": "[encoded data removed]",
      "text/plain": [
       "<Figure size 640x480 with 1 Axes>"
      ]
     },
     "metadata": {},
     "output_type": "display_data"
    }
   ],
   "source": [
    "df['Score'].plot(kind='line', title='Scores Over Time')"
   ]
  },
  {
   "cell_type": "markdown",
   "id": "1d2471cf-eb6b-4def-be37-450b21353827",
   "metadata": {},
   "source": [
    "### b. Bar Plot"
   ]
  },
  {
   "cell_type": "code",
   "execution_count": 31,
   "id": "f2dba516-365c-42a5-9a60-f7fd8006e9a1",
   "metadata": {},
   "outputs": [
    {
     "data": {
      "text/plain": [
       "<Axes: title={'center': 'Average Scores by Name'}, xlabel='Name'>"
      ]
     },
     "execution_count": 31,
     "metadata": {},
     "output_type": "execute_result"
    },
    {
     "data": {
      "image/png": "[encoded data removed]",
      "text/plain": [
       "<Figure size 640x480 with 1 Axes>"
      ]
     },
     "metadata": {},
     "output_type": "display_data"
    }
   ],
   "source": [
    "df.groupby('Name')['Score'].mean().plot(kind='bar', title='Average Scores by Name')"
   ]
  },
  {
   "cell_type": "markdown",
   "id": "cbda5902-2faa-4027-a7a4-fbf38bcba88e",
   "metadata": {},
   "source": [
    "### c. Histogram"
   ]
  },
  {
   "cell_type": "code",
   "execution_count": 32,
   "id": "8d66d04e-8f46-4ffb-8df4-f32ac220a519",
   "metadata": {},
   "outputs": [
    {
     "data": {
      "text/plain": [
       "<Axes: title={'center': 'Score Distribution'}, ylabel='Frequency'>"
      ]
     },
     "execution_count": 32,
     "metadata": {},
     "output_type": "execute_result"
    },
    {
     "data": {
      "image/png": "[encoded data removed]",
      "text/plain": [
       "<Figure size 640x480 with 1 Axes>"
      ]
     },
     "metadata": {},
     "output_type": "display_data"
    }
   ],
   "source": [
    "df['Score'].plot(kind='hist', bins=5, title='Score Distribution')"
   ]
  },
  {
   "cell_type": "markdown",
   "id": "adc2cb96-96c0-4f07-a432-21a5fe1cf91b",
   "metadata": {},
   "source": [
    "### d. Scatter Plot"
   ]
  },
  {
   "cell_type": "code",
   "execution_count": 33,
   "id": "768660a6-503e-4a0f-909c-6a864ccca6e9",
   "metadata": {},
   "outputs": [
    {
     "data": {
      "text/plain": [
       "<Axes: title={'center': 'Age vs. Score'}, xlabel='Age', ylabel='Score'>"
      ]
     },
     "execution_count": 33,
     "metadata": {},
     "output_type": "execute_result"
    },
    {
     "data": {
      "image/png": "[encoded data removed]",
      "text/plain": [
       "<Figure size 640x480 with 1 Axes>"
      ]
     },
     "metadata": {},
     "output_type": "display_data"
    }
   ],
   "source": [
    "df.plot(kind='scatter', x='Age', y='Score', title='Age vs. Score')"
   ]
  },
  {
   "cell_type": "markdown",
   "id": "fe05efdd-23fe-48b0-9d05-f8e4927ed417",
   "metadata": {},
   "source": [
    "### e. Box Plot"
   ]
  },
  {
   "cell_type": "code",
   "execution_count": 34,
   "id": "ff340a1d-93a2-49e7-b348-7d6e3f92f6ad",
   "metadata": {},
   "outputs": [
    {
     "data": {
      "text/plain": [
       "<Axes: title={'center': 'Score'}, xlabel='Category'>"
      ]
     },
     "execution_count": 34,
     "metadata": {},
     "output_type": "execute_result"
    },
    {
     "data": {
      "image/png": "[encoded data removed]",
      "text/plain": [
       "<Figure size 640x480 with 1 Axes>"
      ]
     },
     "metadata": {},
     "output_type": "display_data"
    }
   ],
   "source": [
    "df.boxplot(column='Score', by='Category')"
   ]
  },
  {
   "cell_type": "markdown",
   "id": "58a6aac4-37a4-460a-ab65-02fa920ec6f5",
   "metadata": {},
   "source": [
    "---"
   ]
  },
  {
   "cell_type": "markdown",
   "id": "f58abc3c-6860-4577-90e7-a8fa1eb1d5ea",
   "metadata": {},
   "source": [
    "# 4. Data Preprocessing for Machine Learning\n",
    "Data preprocessing is a critical step in preparing raw data for machine learning models. It ensures data quality and optimizes model performance. Below are the steps and techniques to preprocess data using Pandas, focusing on key tasks relevant to machine learning."
   ]
  },
  {
   "cell_type": "markdown",
   "id": "fc6bd3c1-d169-4812-8f5a-4fab2d7bc6ae",
   "metadata": {},
   "source": [
    "## 4.1 Handling Missing Data\n",
    "Missing data can significantly affect the performance of a machine learning model. You can either remove or impute missing values.\n",
    "\n",
    "### a. Identifying Missing Data"
   ]
  },
  {
   "cell_type": "code",
   "execution_count": 51,
   "id": "1a0a3b19-6fd6-45a0-8924-6c2f96759c40",
   "metadata": {},
   "outputs": [
    {
     "name": "stdout",
     "output_type": "stream",
     "text": [
      "       A      B\n",
      "0  False  False\n",
      "1  False   True\n",
      "2   True   True\n",
      "3  False  False\n",
      "A    1\n",
      "B    2\n",
      "dtype: int64\n"
     ]
    }
   ],
   "source": [
    "import pandas as pd\n",
    "\n",
    "# Sample DataFrame\n",
    "data = {'A': [1, 2, None, 4], 'B': [5, None, None, 8]}\n",
    "df = pd.DataFrame(data)\n",
    "\n",
    "# Check for missing values\n",
    "print(df.isnull())\n",
    "print(df.isnull().sum())"
   ]
  },
  {
   "cell_type": "markdown",
   "id": "93ba1c3b-44da-44df-ae55-8244cb513ef2",
   "metadata": {},
   "source": [
    "### b. Dropping Missing Data"
   ]
  },
  {
   "cell_type": "code",
   "execution_count": 47,
   "id": "1a24c3be-465e-4c1c-aa3e-0bafaee29b36",
   "metadata": {},
   "outputs": [
    {
     "name": "stdout",
     "output_type": "stream",
     "text": [
      "     A    B\n",
      "0  1.0  5.0\n",
      "3  4.0  8.0\n",
      "Empty DataFrame\n",
      "Columns: []\n",
      "Index: [0, 1, 2, 3]\n"
     ]
    }
   ],
   "source": [
    "# Drop rows with missing values\n",
    "df_dropped = df.dropna()\n",
    "\n",
    "# Drop columns with missing values\n",
    "df_dropped_columns = df.dropna(axis=1)\n",
    "\n",
    "print(df_dropped)\n",
    "print(df_dropped_columns)"
   ]
  },
  {
   "cell_type": "markdown",
   "id": "9798e712-ecd1-47ab-b326-7f08ff711b70",
   "metadata": {},
   "source": [
    "- **dropna()** is a pandas method used to remove missing data (NaN values) from a DataFrame.\n",
    "- By default, axis=0, which means it checks rows for missing values.\n",
    "- **axis=1**:\n",
    "Specifies that the operation should be performed along columns (not rows).\n",
    "\n",
    "- **df.dropna(axis=1)**:\n",
    "Checks each column in the DataFrame.\n",
    "If a column contains any missing value (NaN), it is excluded from the resulting DataFrame."
   ]
  },
  {
   "cell_type": "markdown",
   "id": "0a5c545e-194b-442f-b76b-e6f492fd7777",
   "metadata": {},
   "source": [
    "### c. Filling Missing Values"
   ]
  },
  {
   "cell_type": "code",
   "execution_count": 52,
   "id": "06ada18d-6a04-4cf0-a600-b8c4ce82318e",
   "metadata": {},
   "outputs": [
    {
     "name": "stdout",
     "output_type": "stream",
     "text": [
      "     A    B\n",
      "0  1.0  5.0\n",
      "1  2.0  0.0\n",
      "2  0.0  0.0\n",
      "3  4.0  8.0\n",
      "          A    B\n",
      "0  1.000000  5.0\n",
      "1  2.000000  6.5\n",
      "2  2.333333  6.5\n",
      "3  4.000000  8.0\n"
     ]
    }
   ],
   "source": [
    "# Fill with a specific value\n",
    "df_filled = df.fillna(0)\n",
    "\n",
    "# Fill with column mean, median, or mode\n",
    "df['A'] = df['A'].fillna(df['A'].mean())\n",
    "df['B'] = df['B'].fillna(df['B'].median())\n",
    "print(df_filled)\n",
    "print(df)"
   ]
  },
  {
   "cell_type": "markdown",
   "id": "69c3d926-b109-476b-a4fc-87ab1f513f70",
   "metadata": {},
   "source": [
    "---"
   ]
  },
  {
   "cell_type": "markdown",
   "id": "2e9daa1a-60b7-4478-b6e4-addabe9387de",
   "metadata": {},
   "source": [
    "## 4.2 Encoding Categorical Data\n",
    "Machine learning models require numerical inputs. You need to convert categorical data into numbers.\n",
    "\n",
    "### a. Label Encoding\n",
    "Converts categories into integers."
   ]
  },
  {
   "cell_type": "code",
   "execution_count": 56,
   "id": "74de0999-d527-4b64-a093-036e4cb7b83e",
   "metadata": {},
   "outputs": [
    {
     "name": "stdout",
     "output_type": "stream",
     "text": [
      "  Category  Category_Encoded\n",
      "0        A                 0\n",
      "1        B                 1\n",
      "2        A                 0\n",
      "3        C                 2\n"
     ]
    }
   ],
   "source": [
    "from sklearn.preprocessing import LabelEncoder\n",
    "\n",
    "# Example DataFrame\n",
    "df = pd.DataFrame({'Category': ['A', 'B', 'A', 'C']})\n",
    "\n",
    "# Apply label encoding\n",
    "label_encoder = LabelEncoder()\n",
    "df['Category_Encoded'] = label_encoder.fit_transform(df['Category'])\n",
    "print(df)"
   ]
  },
  {
   "cell_type": "markdown",
   "id": "630482d5-c971-4159-87fd-680bd66d7829",
   "metadata": {},
   "source": [
    "- **A LabelEncoder** object is instantiated.\n",
    "- **The fit_transform() method**:\n",
    ">- **fit**: Learns the unique categories (A, B, C) and assigns a numeric value to each.\n",
    ">- **transform**: Converts the categorical values into these numeric labels:\n",
    "\n",
    ">A → 0\n",
    "\n",
    "\n",
    ">B → 1\n",
    "\n",
    "\n",
    ">C → 2\n",
    "- A new column, 'Category_Encoded', is added to the DataFrame with these numerical labels."
   ]
  },
  {
   "cell_type": "markdown",
   "id": "be980bd3-ac2e-476c-b5cb-4323ff82f641",
   "metadata": {},
   "source": [
    "### b. One-Hot Encoding\n",
    "Creates binary columns for each category."
   ]
  },
  {
   "cell_type": "code",
   "execution_count": 57,
   "id": "c29057c5-6004-452e-bc2d-0fd03a439dfb",
   "metadata": {},
   "outputs": [
    {
     "name": "stdout",
     "output_type": "stream",
     "text": [
      "   Category_Encoded  Category_A  Category_B  Category_C\n",
      "0                 0        True       False       False\n",
      "1                 1       False        True       False\n",
      "2                 0        True       False       False\n",
      "3                 2       False       False        True\n"
     ]
    }
   ],
   "source": [
    "df = pd.get_dummies(df, columns=['Category'])\n",
    "print(df)"
   ]
  },
  {
   "cell_type": "markdown",
   "id": "f75b7d99-9b64-49fc-943b-f58b478337db",
   "metadata": {},
   "source": [
    "- **pd.get_dummies**:\n",
    ">- Converts categorical data into multiple binary columns (one for each category).\n",
    ">- Each new column represents whether the original value belongs to that specific category.\n",
    "\n",
    "- The **columns=['Category']** argument specifies that only the 'Category' column should be transformed."
   ]
  },
  {
   "cell_type": "markdown",
   "id": "91c844e0-ae44-47a7-9cfe-bc6a78c27750",
   "metadata": {},
   "source": [
    "---"
   ]
  },
  {
   "cell_type": "markdown",
   "id": "05a48c2c-4ea0-4eb3-9328-17fb4a295396",
   "metadata": {},
   "source": [
    "## 4.3 Feature Scaling\n",
    "Feature scaling ensures that all numerical features are on a similar scale, improving model performance.\n",
    "\n",
    "### a. Normalization (Min-Max Scaling)\n",
    "Normalization, also known as Min-Max scaling, is a technique used to rescale numerical data into a fixed range, typically [0, 1]. This ensures that all features are on the same scale, which is crucial for many machine learning algorithms, particularly those that rely on distance calculations (e.g., k-NN, SVM) or gradient descent (e.g., neural networks).\n",
    "\n",
    "#### Why Use Min-Max Scaling?\n",
    "Some algorithms are sensitive to the scale of input data. Features with larger ranges can dominate over features with smaller ranges, which may lead to suboptimal performance. For example:\n",
    "\n",
    "- **Gradient Descent**: Models like linear regression and neural networks rely on gradient descent, and if features are on vastly different scales, it can slow down the convergence or result in poor optimization.\n",
    "- **Distance-based algorithms**: In algorithms like k-NN and SVM, the distance between points is calculated, so if one feature has a much larger scale than another, it can disproportionately influence the distance computation.\n",
    "\n",
    "#### Formula for Min-Max Scaling\n",
    "The formula for Min-Max scaling is:\n",
    "$$ X_{scaled} = \\frac{X - X_{min}}{X_{max} - X_{min}} $$\n",
    "\n",
    "Where:\n",
    "\n",
    "- $X$ is the original value of the feature.\n",
    "- $X_{min}$ is the minimum value of the feature in the dataset.\n",
    "- $X_{max}$ is the maximum value of the feature in the dataset.\n",
    "- $X_{scaled}$ is the normalized (scaled) value.\n",
    "\n",
    "This formula rescales the values of a feature into the range [0, 1], with the minimum value of the feature mapped to 0 and the maximum value mapped to 1.\n",
    "\n",
    "**Example 1: Basic Normalization Using Pandas**"
   ]
  },
  {
   "cell_type": "code",
   "execution_count": 63,
   "id": "b7e5b615-0a18-4c5e-9a6a-a6052b4c8177",
   "metadata": {},
   "outputs": [
    {
     "name": "stdout",
     "output_type": "stream",
     "text": [
      "   A   B  A_normalized\n",
      "0  1   5          0.00\n",
      "1  2  10          0.25\n",
      "2  3  15          0.50\n",
      "3  4  20          0.75\n",
      "4  5  25          1.00\n"
     ]
    }
   ],
   "source": [
    "import pandas as pd\n",
    "\n",
    "# Sample DataFrame\n",
    "data = {'A': [1, 2, 3, 4, 5], 'B': [5, 10, 15, 20, 25]}\n",
    "df = pd.DataFrame(data)\n",
    "\n",
    "# Normalize column 'A' using Min-Max Scaling\n",
    "df['A_normalized'] = (df['A'] - df['A'].min()) / (df['A'].max() - df['A'].min())\n",
    "\n",
    "print(df)"
   ]
  },
  {
   "cell_type": "markdown",
   "id": "7c0934c7-c612-4879-8ce1-ae6a98fabc73",
   "metadata": {},
   "source": [
    "**Example 2: Using Scikit-learn's MinMaxScaler**"
   ]
  },
  {
   "cell_type": "code",
   "execution_count": 64,
   "id": "848a9d4d-ed15-4fd3-b02d-4fe9377f0228",
   "metadata": {},
   "outputs": [
    {
     "name": "stdout",
     "output_type": "stream",
     "text": [
      "   A   B  A_scaled  B_scaled\n",
      "0  1   5      0.00      0.00\n",
      "1  2  10      0.25      0.25\n",
      "2  3  15      0.50      0.50\n",
      "3  4  20      0.75      0.75\n",
      "4  5  25      1.00      1.00\n"
     ]
    }
   ],
   "source": [
    "from sklearn.preprocessing import MinMaxScaler\n",
    "import pandas as pd\n",
    "\n",
    "# Sample DataFrame\n",
    "data = {'A': [1, 2, 3, 4, 5], 'B': [5, 10, 15, 20, 25]}\n",
    "df = pd.DataFrame(data)\n",
    "\n",
    "# Initialize the MinMaxScaler\n",
    "scaler = MinMaxScaler()\n",
    "\n",
    "# Fit and transform the data\n",
    "df[['A_scaled', 'B_scaled']] = scaler.fit_transform(df[['A', 'B']])\n",
    "\n",
    "print(df)"
   ]
  },
  {
   "cell_type": "markdown",
   "id": "01bdf402-bb70-4100-97c6-2fbd0e68e16a",
   "metadata": {},
   "source": [
    "#### When to Use Min-Max Scaling?\n",
    "1. **Distance-based algorithms** (e.g., k-NN, SVM, clustering): These models depend on the magnitude of the features, and scaling ensures that all features contribute equally to the distance computation.\n",
    "\n",
    "2. **Gradient Descent-based algorithms** (e.g., logistic regression, neural networks): Min-Max scaling helps models converge faster by ensuring that the weights associated with each feature are adjusted proportionally.\n",
    "\n",
    "#### When NOT to Use Min-Max Scaling?\n",
    "1. **Outliers**: Min-Max scaling is sensitive to outliers. If your data contains significant outliers, they can skew the scaling, making the majority of your data fall within a very small range. For example:\n",
    "\n",
    "- If your data has values in the range [1, 1000], but one value is 10,000, the scaled values for most of your data will be squeezed between 0 and 1.\n",
    "\n",
    ">In such cases, consider using **Standardization** (Z-score scaling), which is less sensitive to outliers.\n",
    "\n",
    "2. **Non-continuous data**: Min-Max scaling is primarily designed for continuous numerical features. If you have categorical data, you should encode those features first (e.g., via one-hot encoding) before applying scaling."
   ]
  },
  {
   "cell_type": "markdown",
   "id": "6905596b-27f9-4024-8a0a-ca2db6070edc",
   "metadata": {},
   "source": [
    "### b. Standardization (Z-Score Scaling)\n",
    "Standardization, also known as **Z-score scaling**, is a technique used to scale numerical data by transforming it into a distribution with a mean of **0** and a standard deviation of **1**. Unlike **Min-Max scaling**, which resizes data to a fixed range, standardization transforms data in a way that the distribution of values is centered around 0, and most values are within a range of -1 to 1.\n",
    "\n",
    "#### Why Use Standardization?\n",
    "Standardization is particularly useful when:\n",
    "\n",
    "1. **Features have different units or scales**: For example, one feature might be in meters, while another is in kilograms. Standardization ensures that both features are treated equally during training.\n",
    "2. **Algorithms that rely on the distance between data points** (e.g., k-NN, SVM) or **gradient-based optimization** (e.g., logistic regression, neural networks) perform better when features are standardized.\n",
    "3. **Outliers are not a major concern**: Unlike Min-Max scaling, which can be distorted by outliers, standardization is less sensitive because it uses the standard deviation, which is less influenced by extreme values.\n",
    "\n",
    "#### Formula for Standardization (Z-Score Scaling)\n",
    "The formula for standardization is:\n",
    "$$ Z=\\frac{X-\\mu}{\\sigma} $$\n",
    "Where:\n",
    "\n",
    "- $X$ is the original value of the feature.\n",
    "- $\\mu$ is the mean of the feature (average value).\n",
    "- $\\sigma$ is the standard deviation of the feature.\n",
    "- $Z$ is the standardized value.\n",
    "\n",
    "This formula transforms the feature into a distribution where:\n",
    "\n",
    "- The mean is 0 (centered around 0).\n",
    "- The standard deviation is 1.\n",
    "- Most of the transformed data will fall between -3 and +3 (because of the properties of the normal distribution).\n",
    "\n",
    "**Example 1: Basic Standardization Using Pandas**"
   ]
  },
  {
   "cell_type": "code",
   "execution_count": 65,
   "id": "09f8acff-f39d-4232-b474-980277f88829",
   "metadata": {},
   "outputs": [
    {
     "name": "stdout",
     "output_type": "stream",
     "text": [
      "   A   B  A_standardized\n",
      "0  1   5       -1.264911\n",
      "1  2  10       -0.632456\n",
      "2  3  15        0.000000\n",
      "3  4  20        0.632456\n",
      "4  5  25        1.264911\n"
     ]
    }
   ],
   "source": [
    "import pandas as pd\n",
    "\n",
    "# Sample DataFrame\n",
    "data = {'A': [1, 2, 3, 4, 5], 'B': [5, 10, 15, 20, 25]}\n",
    "df = pd.DataFrame(data)\n",
    "\n",
    "# Calculate the mean and standard deviation\n",
    "mean_A = df['A'].mean()\n",
    "std_A = df['A'].std()\n",
    "\n",
    "# Standardize column 'A'\n",
    "df['A_standardized'] = (df['A'] - mean_A) / std_A\n",
    "\n",
    "print(df)"
   ]
  },
  {
   "cell_type": "markdown",
   "id": "8c19736f-f92d-456f-9777-ff3de23c0373",
   "metadata": {},
   "source": [
    "**Example 2: Using Scikit-learn's StandardScaler**"
   ]
  },
  {
   "cell_type": "code",
   "execution_count": 66,
   "id": "54079ad1-5927-41db-822a-64f17709b6c0",
   "metadata": {},
   "outputs": [
    {
     "name": "stdout",
     "output_type": "stream",
     "text": [
      "   A   B  A_standardized  B_standardized\n",
      "0  1   5       -1.414214       -1.414214\n",
      "1  2  10       -0.707107       -0.707107\n",
      "2  3  15        0.000000        0.000000\n",
      "3  4  20        0.707107        0.707107\n",
      "4  5  25        1.414214        1.414214\n"
     ]
    }
   ],
   "source": [
    "from sklearn.preprocessing import StandardScaler\n",
    "import pandas as pd\n",
    "\n",
    "# Sample DataFrame\n",
    "data = {'A': [1, 2, 3, 4, 5], 'B': [5, 10, 15, 20, 25]}\n",
    "df = pd.DataFrame(data)\n",
    "\n",
    "# Initialize the StandardScaler\n",
    "scaler = StandardScaler()\n",
    "\n",
    "# Fit and transform the data\n",
    "df[['A_standardized', 'B_standardized']] = scaler.fit_transform(df[['A', 'B']])\n",
    "\n",
    "print(df)"
   ]
  },
  {
   "cell_type": "markdown",
   "id": "f3e7b79c-bcfe-4736-abbf-9042d301346c",
   "metadata": {},
   "source": [
    "In this case, StandardScaler from scikit-learn automatically calculates the mean and standard deviation for each feature and standardizes it, just like the manual method but more efficient.\n",
    "\n",
    "#### When to Use Standardization?\n",
    "1. Machine learning algorithms that are sensitive to the scale of data:\n",
    "\n",
    "- **Distance-based models**: Algorithms like **k-Nearest Neighbors (k-NN)** and **Support Vector Machines (SVM)** use distance metrics (like Euclidean distance) that depend on the scale of features. Standardizing the data ensures that no single feature dominates the distance calculation.\n",
    "- **Gradient-based models**: Models that use gradient descent optimization (like **Logistic Regression**, **Neural Networks**, and **Linear Regression**) benefit from standardized data because it speeds up convergence during training.\n",
    "\n",
    "2. **When data has varying ranges or units**: If you have features with different units (e.g., age in years and income in dollars), standardization makes the data comparable.\n",
    "\n",
    "#### When NOT to Use Standardization?\n",
    "1. **When data is already scaled**: If your data is already on a similar scale (e.g., all features are already between 0 and 1), you may not need to standardize it.\n",
    "2. **Non-continuous or categorical data**: Standardization is only appropriate for continuous numerical data. Categorical data should first be encoded (e.g., one-hot encoding or label encoding) before scaling.\n",
    "\n",
    "#### Pros and Cons of Standardization\n",
    "**Pros**:\n",
    "\n",
    "- **Robust to outliers**: Although it's not completely immune to outliers, standardization is less sensitive than Min-Max scaling because it uses the standard deviation.\n",
    "- **No specific range**: Unlike Min-Max scaling, the data is not constrained to a specific range (e.g., [0, 1]), which is helpful for many machine learning models.\n",
    "- **Effective for distance-based and gradient-based models**: Most machine learning algorithms benefit from standardization when features have varying ranges.\n",
    "\n",
    "**Cons**:\n",
    "\n",
    "- **Outliers affect the mean and standard deviation**: Large outliers can shift the mean and increase the standard deviation, which might distort the scaling.\n",
    "- **Not suitable for categorical data**: You cannot standardize categorical data directly; it needs to be encoded first.\n",
    "---"
   ]
  },
  {
   "cell_type": "markdown",
   "id": "7150633a-3c96-4436-8806-0f1442b37aeb",
   "metadata": {},
   "source": [
    "## 4.4 Splitting Data\n",
    "Splitting data is an essential step in the machine learning workflow to evaluate the model's performance and ensure that it generalizes well to unseen data. The primary goal is to split the dataset into at least two parts:\n",
    "\n",
    "- **1. Training Data**: This is used to train the model, helping it learn the patterns in the data.\n",
    "- **2. Testing Data**: This is used to evaluate the model's performance on unseen data, simulating how the model will perform in a real-world scenario.\n",
    "\n",
    "In addition to training and testing data, sometimes you also split the data into a third set: \n",
    "- **3. Validation Data**: This set is used during model training to tune hyperparameters and choose the best model. This is typically used in models that require hyperparameter tuning, such as decision trees, support vector machines, or neural networks.\n",
    "\n",
    "### Why Split Data?\n",
    "- **1. Avoid Overfitting**: If a model is trained and tested on the same data, it may memorize (overfit) the training data rather than learning generalizable patterns. By splitting the data, you ensure that the model is evaluated on data it hasn't seen before, helping to detect overfitting.\n",
    "\n",
    "- **2. Model Evaluation**: Testing data is used to simulate how the model will perform on unseen data, which is crucial for evaluating the model's real-world performance.\n",
    "\n",
    "- **3. Hyperparameter Tuning**: Having a validation set enables you to tune model hyperparameters without \"leaking\" information from the test set.\n",
    "\n",
    "### Common Methods for Splitting Data\n",
    "#### 1. Train-Test Split\n",
    "This is the most straightforward approach, where you split the dataset into two parts: a training set and a testing set.\n",
    "\n",
    "- **Train-Test Split ratio**: A common split is **80/20** or **70/30**, where 80% (or 70%) of the data is used for training, and the remaining 20% (or 30%) is used for testing. However, the exact ratio can vary depending on the size of the dataset.\n",
    "\n",
    "**Example in Scikit-learn:**"
   ]
  },
  {
   "cell_type": "code",
   "execution_count": 3,
   "id": "baf63ccb-b17f-41e3-be0a-fbde766e9f12",
   "metadata": {},
   "outputs": [
    {
     "name": "stdout",
     "output_type": "stream",
     "text": [
      "data:\n",
      "    Feature1  Feature2  Target\n",
      "0         1         5       1\n",
      "1         2         4       0\n",
      "2         3         3       1\n",
      "3         4         2       0\n",
      "4         5         1       1\n",
      "Training Features:\n",
      "    Feature1  Feature2\n",
      "4         5         1\n",
      "2         3         3\n",
      "0         1         5\n",
      "3         4         2\n",
      "\n",
      "Testing Features:\n",
      "    Feature1  Feature2\n",
      "1         2         4\n"
     ]
    }
   ],
   "source": [
    "from sklearn.model_selection import train_test_split\n",
    "import pandas as pd\n",
    "\n",
    "# Sample DataFrame\n",
    "data = {'Feature1': [1, 2, 3, 4, 5],\n",
    "        'Feature2': [5, 4, 3, 2, 1],\n",
    "        'Target': [1, 0, 1, 0, 1]}\n",
    "df = pd.DataFrame(data)\n",
    "\n",
    "# Split data into features (X) and target (y)\n",
    "X = df[['Feature1', 'Feature2']]  # Feature columns\n",
    "y = df['Target']  # Target column\n",
    "\n",
    "# Perform Train-Test Split (80% training, 20% testing)\n",
    "X_train, X_test, y_train, y_test = train_test_split(X, y, test_size=0.2, random_state=42)\n",
    "\n",
    "print(\"data:\\n\", df)\n",
    "print(\"Training Features:\\n\", X_train)\n",
    "print(\"\\nTesting Features:\\n\", X_test)"
   ]
  },
  {
   "cell_type": "markdown",
   "id": "71fc96fd-a63a-44e6-baa8-bfe652784e6a",
   "metadata": {},
   "source": [
    "- *train_test_split*: Splits data into training and testing sets for machine learning.\n",
    "\n",
    "**Data**:\n",
    "- *Feature1* and *Feature2* are the features (independent variables).\n",
    "- *Target* is the dependent variable (what you want to predict).\n",
    "\n",
    "**Splitting**:\n",
    "- *X*: Feature columns.\n",
    "- *y*: Target column.\n",
    "- 80% of the data is assigned to training *(X_train, y_train)*, and 20% to testing *(X_test, y_test)*.\n",
    "- *random_state=42* ensures reproducibility of the split.\n",
    "\n",
    "**Key Points About test_size:**\n",
    "\n",
    "**1. Value Range:**\n",
    "\n",
    "- It can be a float between 0.0 and 1.0, or an integer.\n",
    "- **Float**: Represents the fraction of the dataset to be used as the testing set.\n",
    ">- Example: *test_size=0.2* means 20% of the dataset will be used for testing.\n",
    "\n",
    "- Integer: Specifies the exact number of samples to include in the testing set.\n",
    "\n",
    ">- Example: test_size=2 means two samples will be used for testing.\n",
    "\n",
    "**2. Default Value**:\n",
    "\n",
    "- If not specified, the default value is *test_size=0.25* (25% for testing).\n",
    "\n",
    "**3. Complementary to** *train_size*:\n",
    "\n",
    "- If both *test_size* and *train_size* are not specified, the split defaults to 75% training and 25% testing.\n",
    "- If you specify one, the other is automatically determined. For instance, *test_size=0.2* implies *train_size=0.8*.\n",
    "\n",
    "#### 2. Train-Validation-Test Split\n",
    "This method is used when you want to split the data into three sets: one for training, one for validation, and one for testing.\n",
    "\n",
    "- **Train-Validation-Test Split ratio**: A typical split might be **60/20/20**, where 60% of the data is used for training, and 20% is used for both validation and testing.\n",
    "\n",
    "**Example of Train-Validation-Test Split:**"
   ]
  },
  {
   "cell_type": "code",
   "execution_count": 4,
   "id": "b4accfc7-d218-483b-afff-3ea3a6fdd8d4",
   "metadata": {},
   "outputs": [
    {
     "name": "stdout",
     "output_type": "stream",
     "text": [
      "Training Features:\n",
      "    Feature1  Feature2\n",
      "2         3         3\n",
      "0         1         5\n",
      "3         4         2\n",
      "\n",
      "Validation Features:\n",
      "    Feature1  Feature2\n",
      "1         2         4\n",
      "\n",
      "Testing Features:\n",
      "    Feature1  Feature2\n",
      "4         5         1\n"
     ]
    }
   ],
   "source": [
    "from sklearn.model_selection import train_test_split\n",
    "import pandas as pd\n",
    "\n",
    "# Sample DataFrame\n",
    "data = {'Feature1': [1, 2, 3, 4, 5],\n",
    "        'Feature2': [5, 4, 3, 2, 1],\n",
    "        'Target': [1, 0, 1, 0, 1]}\n",
    "df = pd.DataFrame(data)\n",
    "\n",
    "# Split data into features (X) and target (y)\n",
    "X = df[['Feature1', 'Feature2']]  # Feature columns\n",
    "y = df['Target']  # Target column\n",
    "\n",
    "# Split into 60% train and 40% temp (for validation and test)\n",
    "X_train, X_temp, y_train, y_temp = train_test_split(X, y, test_size=0.4, random_state=42)\n",
    "\n",
    "# Split the 40% temp into 50% validation and 50% test (20% each)\n",
    "X_val, X_test, y_val, y_test = train_test_split(X_temp, y_temp, test_size=0.5, random_state=42)\n",
    "\n",
    "print(\"Training Features:\\n\", X_train)\n",
    "print(\"\\nValidation Features:\\n\", X_val)\n",
    "print(\"\\nTesting Features:\\n\", X_test)"
   ]
  },
  {
   "cell_type": "markdown",
   "id": "0e8bf80a-bfe5-413c-8337-90e8e314d008",
   "metadata": {},
   "source": [
    "Now, the data is split into three parts: 60% for training, 20% for validation, and 20% for testing.\n",
    "\n",
    "#### 3. K-Fold Cross-Validation\n",
    "K-fold cross-validation is a more robust method, especially when you have a smaller dataset. It involves splitting the data into **K** subsets (or folds). The model is trained **K times**, each time using **K-1** folds for training and the remaining fold for testing. The model’s final performance is averaged over all K iterations.\n",
    "\n",
    "- Common values for **K**: Typically, **K = 5 or 10**, but you can choose a different value depending on the dataset size.\n",
    "- **Cross-validation** helps mitigate the risk of the model performing well on a single test split but failing on other splits.\n",
    "\n",
    "**Example of K-Fold Cross-Validation in Scikit-learn**:"
   ]
  },
  {
   "cell_type": "code",
   "execution_count": 9,
   "id": "4aa2460a-8517-4b68-9283-b1e225e33770",
   "metadata": {},
   "outputs": [
    {
     "name": "stdout",
     "output_type": "stream",
     "text": [
      "Cross-validation scores:  [0.33333333 0.5       ]\n",
      "Average accuracy:  0.41666666666666663\n"
     ]
    }
   ],
   "source": [
    "from sklearn.model_selection import cross_val_score\n",
    "from sklearn.ensemble import RandomForestClassifier\n",
    "from sklearn.model_selection import StratifiedKFold\n",
    "import pandas as pd\n",
    "\n",
    "# Sample DataFrame\n",
    "data = {'Feature1': [1, 2, 3, 4, 5],\n",
    "        'Feature2': [5, 4, 3, 2, 1],\n",
    "        'Target': [1, 0, 1, 0, 1]}\n",
    "df = pd.DataFrame(data)\n",
    "\n",
    "# Split data into features (X) and target (y)\n",
    "X = df[['Feature1', 'Feature2']]  # Feature columns\n",
    "y = df['Target']  # Target column\n",
    "\n",
    "# Initialize a model\n",
    "model = RandomForestClassifier()\n",
    "\n",
    "# Perform 2-fold cross-validation and return the scores\n",
    "cv = StratifiedKFold(n_splits=2)  # Reduce splits to match the smallest class count\n",
    "scores = cross_val_score(model, X, y, cv=cv)\n",
    "\n",
    "print(\"Cross-validation scores: \", scores)\n",
    "print(\"Average accuracy: \", scores.mean())"
   ]
  },
  {
   "cell_type": "markdown",
   "id": "1075c8cf-15df-49ac-b938-cccf3fcdff5c",
   "metadata": {},
   "source": [
    "- A **Random Forest Classifier** is initialized. This is an ensemble learning model that uses multiple decision trees for classification tasks."
   ]
  }
 ],
 "metadata": {
  "kernelspec": {
   "display_name": "Python 3 (ipykernel)",
   "language": "python",
   "name": "python3"
  },
  "language_info": {
   "codemirror_mode": {
    "name": "ipython",
    "version": 3
   },
   "file_extension": ".py",
   "mimetype": "text/x-python",
   "name": "python",
   "nbconvert_exporter": "python",
   "pygments_lexer": "ipython3",
   "version": "3.12.4"
  }
 },
 "nbformat": 4,
 "nbformat_minor": 5
}
